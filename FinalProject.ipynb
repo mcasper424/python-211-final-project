{
 "cells": [
  {
   "cell_type": "code",
   "execution_count": 5,
   "metadata": {
    "pycharm": {
     "name": "#%%\n"
    }
   },
   "outputs": [],
   "source": [
    "import pandas as pd\n",
    "import matplotlib as plt\n"
   ]
  },
  {
   "cell_type": "code",
   "execution_count": 6,
   "metadata": {
    "pycharm": {
     "name": "#%%\n"
    }
   },
   "outputs": [],
   "source": [
    "df = pd.read_csv(\"ZIPS.csv\")\n",
    "#import the data"
   ]
  },
  {
   "cell_type": "code",
   "execution_count": 7,
   "metadata": {
    "pycharm": {
     "name": "#%%\n"
    }
   },
   "outputs": [
    {
     "data": {
      "text/html": [
       "<div>\n",
       "<style scoped>\n",
       "    .dataframe tbody tr th:only-of-type {\n",
       "        vertical-align: middle;\n",
       "    }\n",
       "\n",
       "    .dataframe tbody tr th {\n",
       "        vertical-align: top;\n",
       "    }\n",
       "\n",
       "    .dataframe thead th {\n",
       "        text-align: right;\n",
       "    }\n",
       "</style>\n",
       "<table border=\"1\" class=\"dataframe\">\n",
       "  <thead>\n",
       "    <tr style=\"text-align: right;\">\n",
       "      <th></th>\n",
       "      <th>Name</th>\n",
       "      <th>Team</th>\n",
       "      <th>G</th>\n",
       "      <th>PA</th>\n",
       "      <th>AB</th>\n",
       "      <th>H</th>\n",
       "      <th>2B</th>\n",
       "      <th>3B</th>\n",
       "      <th>HR</th>\n",
       "      <th>R</th>\n",
       "      <th>...</th>\n",
       "      <th>AVG</th>\n",
       "      <th>OBP</th>\n",
       "      <th>SLG</th>\n",
       "      <th>OPS</th>\n",
       "      <th>wOBA</th>\n",
       "      <th>Fld</th>\n",
       "      <th>BsR</th>\n",
       "      <th>WAR</th>\n",
       "      <th>ADP</th>\n",
       "      <th>playerid</th>\n",
       "    </tr>\n",
       "  </thead>\n",
       "  <tbody>\n",
       "    <tr>\n",
       "      <td>0</td>\n",
       "      <td>Mike Trout</td>\n",
       "      <td>Angels</td>\n",
       "      <td>137</td>\n",
       "      <td>600</td>\n",
       "      <td>472</td>\n",
       "      <td>139</td>\n",
       "      <td>26</td>\n",
       "      <td>3</td>\n",
       "      <td>40</td>\n",
       "      <td>107</td>\n",
       "      <td>...</td>\n",
       "      <td>0.294</td>\n",
       "      <td>0.438</td>\n",
       "      <td>0.617</td>\n",
       "      <td>1.055</td>\n",
       "      <td>0.427</td>\n",
       "      <td>0</td>\n",
       "      <td>1.7</td>\n",
       "      <td>7.9</td>\n",
       "      <td>2.3</td>\n",
       "      <td>10155</td>\n",
       "    </tr>\n",
       "    <tr>\n",
       "      <td>1</td>\n",
       "      <td>Alex Bregman</td>\n",
       "      <td>Astros</td>\n",
       "      <td>154</td>\n",
       "      <td>672</td>\n",
       "      <td>560</td>\n",
       "      <td>161</td>\n",
       "      <td>39</td>\n",
       "      <td>3</td>\n",
       "      <td>34</td>\n",
       "      <td>110</td>\n",
       "      <td>...</td>\n",
       "      <td>0.288</td>\n",
       "      <td>0.399</td>\n",
       "      <td>0.550</td>\n",
       "      <td>0.949</td>\n",
       "      <td>0.395</td>\n",
       "      <td>1</td>\n",
       "      <td>0.3</td>\n",
       "      <td>7.1</td>\n",
       "      <td>15.8</td>\n",
       "      <td>17678</td>\n",
       "    </tr>\n",
       "    <tr>\n",
       "      <td>2</td>\n",
       "      <td>Mookie Betts</td>\n",
       "      <td>Dodgers</td>\n",
       "      <td>151</td>\n",
       "      <td>698</td>\n",
       "      <td>608</td>\n",
       "      <td>179</td>\n",
       "      <td>39</td>\n",
       "      <td>5</td>\n",
       "      <td>34</td>\n",
       "      <td>126</td>\n",
       "      <td>...</td>\n",
       "      <td>0.294</td>\n",
       "      <td>0.375</td>\n",
       "      <td>0.543</td>\n",
       "      <td>0.918</td>\n",
       "      <td>0.379</td>\n",
       "      <td>0</td>\n",
       "      <td>2.1</td>\n",
       "      <td>6.1</td>\n",
       "      <td>6.0</td>\n",
       "      <td>13611</td>\n",
       "    </tr>\n",
       "    <tr>\n",
       "      <td>3</td>\n",
       "      <td>Francisco Lindor</td>\n",
       "      <td>Indians</td>\n",
       "      <td>156</td>\n",
       "      <td>709</td>\n",
       "      <td>637</td>\n",
       "      <td>184</td>\n",
       "      <td>41</td>\n",
       "      <td>3</td>\n",
       "      <td>34</td>\n",
       "      <td>113</td>\n",
       "      <td>...</td>\n",
       "      <td>0.289</td>\n",
       "      <td>0.351</td>\n",
       "      <td>0.523</td>\n",
       "      <td>0.874</td>\n",
       "      <td>0.360</td>\n",
       "      <td>9</td>\n",
       "      <td>1.4</td>\n",
       "      <td>6.0</td>\n",
       "      <td>8.2</td>\n",
       "      <td>12916</td>\n",
       "    </tr>\n",
       "    <tr>\n",
       "      <td>4</td>\n",
       "      <td>Juan Soto</td>\n",
       "      <td>Nationals</td>\n",
       "      <td>155</td>\n",
       "      <td>678</td>\n",
       "      <td>559</td>\n",
       "      <td>165</td>\n",
       "      <td>33</td>\n",
       "      <td>5</td>\n",
       "      <td>36</td>\n",
       "      <td>115</td>\n",
       "      <td>...</td>\n",
       "      <td>0.295</td>\n",
       "      <td>0.413</td>\n",
       "      <td>0.565</td>\n",
       "      <td>0.978</td>\n",
       "      <td>0.405</td>\n",
       "      <td>-1</td>\n",
       "      <td>0.9</td>\n",
       "      <td>5.7</td>\n",
       "      <td>11.0</td>\n",
       "      <td>20123</td>\n",
       "    </tr>\n",
       "  </tbody>\n",
       "</table>\n",
       "<p>5 rows × 26 columns</p>\n",
       "</div>"
      ],
      "text/plain": [
       "               Name       Team    G   PA   AB    H  2B  3B  HR    R  ...  \\\n",
       "0        Mike Trout     Angels  137  600  472  139  26   3  40  107  ...   \n",
       "1      Alex Bregman     Astros  154  672  560  161  39   3  34  110  ...   \n",
       "2      Mookie Betts    Dodgers  151  698  608  179  39   5  34  126  ...   \n",
       "3  Francisco Lindor    Indians  156  709  637  184  41   3  34  113  ...   \n",
       "4         Juan Soto  Nationals  155  678  559  165  33   5  36  115  ...   \n",
       "\n",
       "     AVG    OBP    SLG    OPS   wOBA  Fld  BsR  WAR   ADP  playerid  \n",
       "0  0.294  0.438  0.617  1.055  0.427    0  1.7  7.9   2.3     10155  \n",
       "1  0.288  0.399  0.550  0.949  0.395    1  0.3  7.1  15.8     17678  \n",
       "2  0.294  0.375  0.543  0.918  0.379    0  2.1  6.1   6.0     13611  \n",
       "3  0.289  0.351  0.523  0.874  0.360    9  1.4  6.0   8.2     12916  \n",
       "4  0.295  0.413  0.565  0.978  0.405   -1  0.9  5.7  11.0     20123  \n",
       "\n",
       "[5 rows x 26 columns]"
      ]
     },
     "execution_count": 7,
     "metadata": {},
     "output_type": "execute_result"
    }
   ],
   "source": [
    "df.head()\n",
    "#view original data"
   ]
  },
  {
   "cell_type": "code",
   "execution_count": null,
   "metadata": {
    "pycharm": {
     "name": "#%%\n"
    }
   },
   "outputs": [],
   "source": []
  },
  {
   "cell_type": "markdown",
   "metadata": {
    "pycharm": {
     "name": "#%% md\n"
    }
   },
   "source": [
    "# Who is the best power hitter"
   ]
  },
  {
   "cell_type": "markdown",
   "metadata": {},
   "source": [
    "## CONCLUSIONS: Giancarlo Stanton and Pete Alonso were projected to lead HRs with 43 (z-score 4.3 above average)\n",
    "## BUT Joey Gallo has the most HR/AB, projected to hit 36 home runs in a 100 game season (z-score 4.7 above average) AND Mike Trout leads Slugging Percentage (with a z-score of 3.9 better than avg)\n",
    "\n",
    "## Edge: Joey Gallo!"
   ]
  },
  {
   "cell_type": "markdown",
   "metadata": {},
   "source": [
    "First, lets look at some Home Runs"
   ]
  },
  {
   "cell_type": "code",
   "execution_count": 8,
   "metadata": {
    "pycharm": {
     "name": "#%%\n"
    }
   },
   "outputs": [
    {
     "data": {
      "text/plain": [
       "39         Peter Alonso\n",
       "53    Giancarlo Stanton\n",
       "Name: Name, dtype: object"
      ]
     },
     "execution_count": 8,
     "metadata": {},
     "output_type": "execute_result"
    }
   ],
   "source": [
    "mask = df[\"HR\"] == df[\"HR\"].max()\n",
    "df[mask][\"Name\"]\n",
    "#Pete Alonso and Giancarlo Stanton Tied for most home runs"
   ]
  },
  {
   "cell_type": "markdown",
   "metadata": {},
   "source": [
    "How many home runs are they projected to hit?"
   ]
  },
  {
   "cell_type": "code",
   "execution_count": 9,
   "metadata": {
    "pycharm": {
     "name": "#%%\n"
    }
   },
   "outputs": [
    {
     "data": {
      "text/plain": [
       "43"
      ]
     },
     "execution_count": 9,
     "metadata": {},
     "output_type": "execute_result"
    }
   ],
   "source": [
    "df[\"HR\"].max()"
   ]
  },
  {
   "cell_type": "markdown",
   "metadata": {},
   "source": [
    "Let's see who will hit the least home runs"
   ]
  },
  {
   "cell_type": "code",
   "execution_count": 10,
   "metadata": {
    "pycharm": {
     "name": "#%%\n"
    }
   },
   "outputs": [
    {
     "data": {
      "text/plain": [
       "843       Ichiro Suzuki\n",
       "879     Kelby Tomlinson\n",
       "1090        Jose Devers\n",
       "1119      Terrance Gore\n",
       "1121      Engelb Vielma\n",
       "1249         Luke Burch\n",
       "Name: Name, dtype: object"
      ]
     },
     "execution_count": 10,
     "metadata": {},
     "output_type": "execute_result"
    }
   ],
   "source": [
    "mask = df[\"HR\"] == df[\"HR\"].min()\n",
    "df[mask][\"Name\"]\n",
    "#They still have Ichiro on the list even though he retired lol"
   ]
  },
  {
   "cell_type": "markdown",
   "metadata": {},
   "source": [
    "And how many home runs will they (the least powerful players) hit?"
   ]
  },
  {
   "cell_type": "code",
   "execution_count": 11,
   "metadata": {
    "pycharm": {
     "name": "#%%\n"
    }
   },
   "outputs": [
    {
     "data": {
      "text/plain": [
       "0"
      ]
     },
     "execution_count": 11,
     "metadata": {},
     "output_type": "execute_result"
    }
   ],
   "source": [
    "df[\"HR\"].min()\n",
    "#0"
   ]
  },
  {
   "cell_type": "markdown",
   "metadata": {},
   "source": [
    "Let's add a z-score of home runs as a new column to normalize the data\n",
    "And see how much better Pete Alonso and Giancarlo Stanton are at hitting home runs"
   ]
  },
  {
   "cell_type": "code",
   "execution_count": 12,
   "metadata": {
    "pycharm": {
     "name": "#%%\n"
    }
   },
   "outputs": [
    {
     "data": {
      "text/plain": [
       "4.310634401488958"
      ]
     },
     "execution_count": 12,
     "metadata": {},
     "output_type": "execute_result"
    }
   ],
   "source": [
    "def HR_ZScore(x):\n",
    "    df[\"HR_ZScore\"] = (df[\"HR\"]-df[\"HR\"].mean())/df[\"HR\"].std()\n",
    "#this creates a new column and calculates the z-score of the HR column\n",
    "df.apply(HR_ZScore)\n",
    "mask = df[\"HR_ZScore\"] == df[\"HR_ZScore\"].max()\n",
    "#this shouldn't change the data at all, should still be Pete Alonso and Giancarlo Stanton\n",
    "#df[mask][\"Name\"] confirmed Pete Alonso and Giancarlo Stanton\n",
    "df[\"HR_ZScore\"].max()\n",
    "#WOW 4 standard deviaitons above norm!"
   ]
  },
  {
   "cell_type": "markdown",
   "metadata": {},
   "source": [
    "Ok lets change up the playing time adjustments by creating a rate stat for home runs per at bat\n",
    "\n",
    "And see who hits the most HR/AB?"
   ]
  },
  {
   "cell_type": "code",
   "execution_count": 13,
   "metadata": {
    "pycharm": {
     "name": "#%%\n"
    }
   },
   "outputs": [
    {
     "data": {
      "text/plain": [
       "76    Joey Gallo\n",
       "Name: Name, dtype: object"
      ]
     },
     "execution_count": 13,
     "metadata": {},
     "output_type": "execute_result"
    }
   ],
   "source": [
    "def HR_perAB(x):\n",
    "    df[\"HR_perAB\"] = df[\"HR\"]/df[\"AB\"]\n",
    "#note these numbers are percentages\n",
    "df.apply(HR_perAB)\n",
    "mask = df[\"HR_perAB\"] == df[\"HR_perAB\"].max()\n",
    "#who hits the most HR/AB?\n",
    "df[mask][\"Name\"]\n",
    "#cool, Joey Gallo that's different that the overall leader"
   ]
  },
  {
   "cell_type": "markdown",
   "metadata": {},
   "source": [
    "And who hits the least per AB?"
   ]
  },
  {
   "cell_type": "code",
   "execution_count": 14,
   "metadata": {
    "pycharm": {
     "name": "#%%\n"
    }
   },
   "outputs": [
    {
     "data": {
      "text/plain": [
       "843       Ichiro Suzuki\n",
       "879     Kelby Tomlinson\n",
       "1090        Jose Devers\n",
       "1119      Terrance Gore\n",
       "1121      Engelb Vielma\n",
       "1249         Luke Burch\n",
       "Name: Name, dtype: object"
      ]
     },
     "execution_count": 14,
     "metadata": {},
     "output_type": "execute_result"
    }
   ],
   "source": [
    "mask = df[\"HR_perAB\"] == df[\"HR_perAB\"].min()\n",
    "df[mask][\"Name\"]\n",
    "#this is the same as before because they all hit 0 HR!"
   ]
  },
  {
   "cell_type": "markdown",
   "metadata": {},
   "source": [
    "Lets look at the  number of at bats of the top hitters and make an assumption about the number of ABs"
   ]
  },
  {
   "cell_type": "code",
   "execution_count": 15,
   "metadata": {
    "pycharm": {
     "name": "#%%\n"
    }
   },
   "outputs": [
    {
     "data": {
      "text/plain": [
       "3      637\n",
       "61     637\n",
       "14     625\n",
       "26     624\n",
       "11     612\n",
       "      ... \n",
       "838    125\n",
       "813    116\n",
       "788     98\n",
       "621     45\n",
       "843     31\n",
       "Name: AB, Length: 1328, dtype: int64"
      ]
     },
     "execution_count": 15,
     "metadata": {},
     "output_type": "execute_result"
    }
   ],
   "source": [
    "df[\"AB\"].sort_values(ascending = False)\n",
    "#600 seems like a reasonable start point"
   ]
  },
  {
   "cell_type": "markdown",
   "metadata": {},
   "source": [
    "Let's use a 600 AB start point and adjust assuming 2020 is a 100 game season (instead of 162)\n",
    "\n",
    "And create a new total HR column"
   ]
  },
  {
   "cell_type": "code",
   "execution_count": 16,
   "metadata": {
    "pycharm": {
     "name": "#%%\n"
    }
   },
   "outputs": [
    {
     "data": {
      "text/html": [
       "<div>\n",
       "<style scoped>\n",
       "    .dataframe tbody tr th:only-of-type {\n",
       "        vertical-align: middle;\n",
       "    }\n",
       "\n",
       "    .dataframe tbody tr th {\n",
       "        vertical-align: top;\n",
       "    }\n",
       "\n",
       "    .dataframe thead th {\n",
       "        text-align: right;\n",
       "    }\n",
       "</style>\n",
       "<table border=\"1\" class=\"dataframe\">\n",
       "  <thead>\n",
       "    <tr style=\"text-align: right;\">\n",
       "      <th></th>\n",
       "      <th>Name</th>\n",
       "      <th>Team</th>\n",
       "      <th>G</th>\n",
       "      <th>PA</th>\n",
       "      <th>AB</th>\n",
       "      <th>H</th>\n",
       "      <th>2B</th>\n",
       "      <th>3B</th>\n",
       "      <th>HR</th>\n",
       "      <th>R</th>\n",
       "      <th>...</th>\n",
       "      <th>OPS</th>\n",
       "      <th>wOBA</th>\n",
       "      <th>Fld</th>\n",
       "      <th>BsR</th>\n",
       "      <th>WAR</th>\n",
       "      <th>ADP</th>\n",
       "      <th>playerid</th>\n",
       "      <th>HR_ZScore</th>\n",
       "      <th>HR_perAB</th>\n",
       "      <th>HR_100G</th>\n",
       "    </tr>\n",
       "  </thead>\n",
       "  <tbody>\n",
       "    <tr>\n",
       "      <td>0</td>\n",
       "      <td>Mike Trout</td>\n",
       "      <td>Angels</td>\n",
       "      <td>137</td>\n",
       "      <td>600</td>\n",
       "      <td>472</td>\n",
       "      <td>139</td>\n",
       "      <td>26</td>\n",
       "      <td>3</td>\n",
       "      <td>40</td>\n",
       "      <td>107</td>\n",
       "      <td>...</td>\n",
       "      <td>1.055</td>\n",
       "      <td>0.427</td>\n",
       "      <td>0</td>\n",
       "      <td>1.7</td>\n",
       "      <td>7.9</td>\n",
       "      <td>2.3</td>\n",
       "      <td>10155</td>\n",
       "      <td>3.900088</td>\n",
       "      <td>0.084746</td>\n",
       "      <td>31.0</td>\n",
       "    </tr>\n",
       "    <tr>\n",
       "      <td>1</td>\n",
       "      <td>Alex Bregman</td>\n",
       "      <td>Astros</td>\n",
       "      <td>154</td>\n",
       "      <td>672</td>\n",
       "      <td>560</td>\n",
       "      <td>161</td>\n",
       "      <td>39</td>\n",
       "      <td>3</td>\n",
       "      <td>34</td>\n",
       "      <td>110</td>\n",
       "      <td>...</td>\n",
       "      <td>0.949</td>\n",
       "      <td>0.395</td>\n",
       "      <td>1</td>\n",
       "      <td>0.3</td>\n",
       "      <td>7.1</td>\n",
       "      <td>15.8</td>\n",
       "      <td>17678</td>\n",
       "      <td>3.078995</td>\n",
       "      <td>0.060714</td>\n",
       "      <td>22.0</td>\n",
       "    </tr>\n",
       "    <tr>\n",
       "      <td>2</td>\n",
       "      <td>Mookie Betts</td>\n",
       "      <td>Dodgers</td>\n",
       "      <td>151</td>\n",
       "      <td>698</td>\n",
       "      <td>608</td>\n",
       "      <td>179</td>\n",
       "      <td>39</td>\n",
       "      <td>5</td>\n",
       "      <td>34</td>\n",
       "      <td>126</td>\n",
       "      <td>...</td>\n",
       "      <td>0.918</td>\n",
       "      <td>0.379</td>\n",
       "      <td>0</td>\n",
       "      <td>2.1</td>\n",
       "      <td>6.1</td>\n",
       "      <td>6.0</td>\n",
       "      <td>13611</td>\n",
       "      <td>3.078995</td>\n",
       "      <td>0.055921</td>\n",
       "      <td>21.0</td>\n",
       "    </tr>\n",
       "    <tr>\n",
       "      <td>3</td>\n",
       "      <td>Francisco Lindor</td>\n",
       "      <td>Indians</td>\n",
       "      <td>156</td>\n",
       "      <td>709</td>\n",
       "      <td>637</td>\n",
       "      <td>184</td>\n",
       "      <td>41</td>\n",
       "      <td>3</td>\n",
       "      <td>34</td>\n",
       "      <td>113</td>\n",
       "      <td>...</td>\n",
       "      <td>0.874</td>\n",
       "      <td>0.360</td>\n",
       "      <td>9</td>\n",
       "      <td>1.4</td>\n",
       "      <td>6.0</td>\n",
       "      <td>8.2</td>\n",
       "      <td>12916</td>\n",
       "      <td>3.078995</td>\n",
       "      <td>0.053375</td>\n",
       "      <td>20.0</td>\n",
       "    </tr>\n",
       "    <tr>\n",
       "      <td>4</td>\n",
       "      <td>Juan Soto</td>\n",
       "      <td>Nationals</td>\n",
       "      <td>155</td>\n",
       "      <td>678</td>\n",
       "      <td>559</td>\n",
       "      <td>165</td>\n",
       "      <td>33</td>\n",
       "      <td>5</td>\n",
       "      <td>36</td>\n",
       "      <td>115</td>\n",
       "      <td>...</td>\n",
       "      <td>0.978</td>\n",
       "      <td>0.405</td>\n",
       "      <td>-1</td>\n",
       "      <td>0.9</td>\n",
       "      <td>5.7</td>\n",
       "      <td>11.0</td>\n",
       "      <td>20123</td>\n",
       "      <td>3.352693</td>\n",
       "      <td>0.064401</td>\n",
       "      <td>24.0</td>\n",
       "    </tr>\n",
       "    <tr>\n",
       "      <td>...</td>\n",
       "      <td>...</td>\n",
       "      <td>...</td>\n",
       "      <td>...</td>\n",
       "      <td>...</td>\n",
       "      <td>...</td>\n",
       "      <td>...</td>\n",
       "      <td>...</td>\n",
       "      <td>...</td>\n",
       "      <td>...</td>\n",
       "      <td>...</td>\n",
       "      <td>...</td>\n",
       "      <td>...</td>\n",
       "      <td>...</td>\n",
       "      <td>...</td>\n",
       "      <td>...</td>\n",
       "      <td>...</td>\n",
       "      <td>...</td>\n",
       "      <td>...</td>\n",
       "      <td>...</td>\n",
       "      <td>...</td>\n",
       "      <td>...</td>\n",
       "    </tr>\n",
       "    <tr>\n",
       "      <td>1323</td>\n",
       "      <td>Gio Brusa</td>\n",
       "      <td>NaN</td>\n",
       "      <td>110</td>\n",
       "      <td>428</td>\n",
       "      <td>391</td>\n",
       "      <td>66</td>\n",
       "      <td>16</td>\n",
       "      <td>2</td>\n",
       "      <td>13</td>\n",
       "      <td>40</td>\n",
       "      <td>...</td>\n",
       "      <td>0.553</td>\n",
       "      <td>0.238</td>\n",
       "      <td>-4</td>\n",
       "      <td>-0.2</td>\n",
       "      <td>-2.8</td>\n",
       "      <td>999.0</td>\n",
       "      <td>sa659068</td>\n",
       "      <td>0.205170</td>\n",
       "      <td>0.033248</td>\n",
       "      <td>12.0</td>\n",
       "    </tr>\n",
       "    <tr>\n",
       "      <td>1324</td>\n",
       "      <td>Lazaro Armenteros</td>\n",
       "      <td>Athletics</td>\n",
       "      <td>119</td>\n",
       "      <td>506</td>\n",
       "      <td>455</td>\n",
       "      <td>78</td>\n",
       "      <td>14</td>\n",
       "      <td>2</td>\n",
       "      <td>14</td>\n",
       "      <td>48</td>\n",
       "      <td>...</td>\n",
       "      <td>0.558</td>\n",
       "      <td>0.245</td>\n",
       "      <td>-10</td>\n",
       "      <td>-0.5</td>\n",
       "      <td>-2.9</td>\n",
       "      <td>999.0</td>\n",
       "      <td>sa969091</td>\n",
       "      <td>0.342019</td>\n",
       "      <td>0.030769</td>\n",
       "      <td>11.0</td>\n",
       "    </tr>\n",
       "    <tr>\n",
       "      <td>1325</td>\n",
       "      <td>Elier Hernandez</td>\n",
       "      <td>NaN</td>\n",
       "      <td>115</td>\n",
       "      <td>458</td>\n",
       "      <td>429</td>\n",
       "      <td>88</td>\n",
       "      <td>18</td>\n",
       "      <td>2</td>\n",
       "      <td>5</td>\n",
       "      <td>38</td>\n",
       "      <td>...</td>\n",
       "      <td>0.537</td>\n",
       "      <td>0.233</td>\n",
       "      <td>-4</td>\n",
       "      <td>-1.4</td>\n",
       "      <td>-3.0</td>\n",
       "      <td>999.0</td>\n",
       "      <td>sa659238</td>\n",
       "      <td>-0.889620</td>\n",
       "      <td>0.011655</td>\n",
       "      <td>4.0</td>\n",
       "    </tr>\n",
       "    <tr>\n",
       "      <td>1326</td>\n",
       "      <td>Courtney Hawkins</td>\n",
       "      <td>NaN</td>\n",
       "      <td>100</td>\n",
       "      <td>417</td>\n",
       "      <td>390</td>\n",
       "      <td>70</td>\n",
       "      <td>17</td>\n",
       "      <td>0</td>\n",
       "      <td>13</td>\n",
       "      <td>37</td>\n",
       "      <td>...</td>\n",
       "      <td>0.547</td>\n",
       "      <td>0.231</td>\n",
       "      <td>-6</td>\n",
       "      <td>-1.7</td>\n",
       "      <td>-3.0</td>\n",
       "      <td>999.0</td>\n",
       "      <td>sa657904</td>\n",
       "      <td>0.205170</td>\n",
       "      <td>0.033333</td>\n",
       "      <td>12.0</td>\n",
       "    </tr>\n",
       "    <tr>\n",
       "      <td>1327</td>\n",
       "      <td>Tim Tebow</td>\n",
       "      <td>Mets</td>\n",
       "      <td>91</td>\n",
       "      <td>328</td>\n",
       "      <td>303</td>\n",
       "      <td>49</td>\n",
       "      <td>10</td>\n",
       "      <td>1</td>\n",
       "      <td>4</td>\n",
       "      <td>25</td>\n",
       "      <td>...</td>\n",
       "      <td>0.461</td>\n",
       "      <td>0.205</td>\n",
       "      <td>-9</td>\n",
       "      <td>-0.6</td>\n",
       "      <td>-3.4</td>\n",
       "      <td>999.0</td>\n",
       "      <td>sa323152</td>\n",
       "      <td>-1.026469</td>\n",
       "      <td>0.013201</td>\n",
       "      <td>5.0</td>\n",
       "    </tr>\n",
       "  </tbody>\n",
       "</table>\n",
       "<p>1328 rows × 29 columns</p>\n",
       "</div>"
      ],
      "text/plain": [
       "                   Name       Team    G   PA   AB    H  2B  3B  HR    R  ...  \\\n",
       "0            Mike Trout     Angels  137  600  472  139  26   3  40  107  ...   \n",
       "1          Alex Bregman     Astros  154  672  560  161  39   3  34  110  ...   \n",
       "2          Mookie Betts    Dodgers  151  698  608  179  39   5  34  126  ...   \n",
       "3      Francisco Lindor    Indians  156  709  637  184  41   3  34  113  ...   \n",
       "4             Juan Soto  Nationals  155  678  559  165  33   5  36  115  ...   \n",
       "...                 ...        ...  ...  ...  ...  ...  ..  ..  ..  ...  ...   \n",
       "1323          Gio Brusa        NaN  110  428  391   66  16   2  13   40  ...   \n",
       "1324  Lazaro Armenteros  Athletics  119  506  455   78  14   2  14   48  ...   \n",
       "1325    Elier Hernandez        NaN  115  458  429   88  18   2   5   38  ...   \n",
       "1326   Courtney Hawkins        NaN  100  417  390   70  17   0  13   37  ...   \n",
       "1327          Tim Tebow       Mets   91  328  303   49  10   1   4   25  ...   \n",
       "\n",
       "        OPS   wOBA  Fld  BsR  WAR    ADP  playerid  HR_ZScore  HR_perAB  \\\n",
       "0     1.055  0.427    0  1.7  7.9    2.3     10155   3.900088  0.084746   \n",
       "1     0.949  0.395    1  0.3  7.1   15.8     17678   3.078995  0.060714   \n",
       "2     0.918  0.379    0  2.1  6.1    6.0     13611   3.078995  0.055921   \n",
       "3     0.874  0.360    9  1.4  6.0    8.2     12916   3.078995  0.053375   \n",
       "4     0.978  0.405   -1  0.9  5.7   11.0     20123   3.352693  0.064401   \n",
       "...     ...    ...  ...  ...  ...    ...       ...        ...       ...   \n",
       "1323  0.553  0.238   -4 -0.2 -2.8  999.0  sa659068   0.205170  0.033248   \n",
       "1324  0.558  0.245  -10 -0.5 -2.9  999.0  sa969091   0.342019  0.030769   \n",
       "1325  0.537  0.233   -4 -1.4 -3.0  999.0  sa659238  -0.889620  0.011655   \n",
       "1326  0.547  0.231   -6 -1.7 -3.0  999.0  sa657904   0.205170  0.033333   \n",
       "1327  0.461  0.205   -9 -0.6 -3.4  999.0  sa323152  -1.026469  0.013201   \n",
       "\n",
       "      HR_100G  \n",
       "0        31.0  \n",
       "1        22.0  \n",
       "2        21.0  \n",
       "3        20.0  \n",
       "4        24.0  \n",
       "...       ...  \n",
       "1323     12.0  \n",
       "1324     11.0  \n",
       "1325      4.0  \n",
       "1326     12.0  \n",
       "1327      5.0  \n",
       "\n",
       "[1328 rows x 29 columns]"
      ]
     },
     "execution_count": 16,
     "metadata": {},
     "output_type": "execute_result"
    }
   ],
   "source": [
    "def HR_100G(x):\n",
    "    df[\"HR_100G\"] = df[\"HR_perAB\"]*(600*(100/162))\n",
    "df.apply(HR_100G)\n",
    "df[\"HR_100G\"] = df[\"HR_100G\"].round(decimals = 0)\n",
    "#you can't hit 1/2 a home run, so I rounded!\n",
    "df"
   ]
  },
  {
   "cell_type": "markdown",
   "metadata": {},
   "source": [
    "How many home runs will Joey Gallo hit in this shortened season?"
   ]
  },
  {
   "cell_type": "code",
   "execution_count": 17,
   "metadata": {
    "pycharm": {
     "name": "#%%\n"
    }
   },
   "outputs": [
    {
     "data": {
      "text/plain": [
       "36.0"
      ]
     },
     "execution_count": 17,
     "metadata": {},
     "output_type": "execute_result"
    }
   ],
   "source": [
    "df[\"HR_100G\"].max()\n",
    "#still 36 home runs!"
   ]
  },
  {
   "cell_type": "markdown",
   "metadata": {},
   "source": [
    "How many more is this than his pre-season projection?\n",
    "Remember, this assumes he becomes healthy as a result of the delayed season"
   ]
  },
  {
   "cell_type": "code",
   "execution_count": 18,
   "metadata": {
    "pycharm": {
     "name": "#%%\n"
    }
   },
   "outputs": [
    {
     "data": {
      "text/plain": [
       "76    0.0\n",
       "dtype: float64"
      ]
     },
     "execution_count": 18,
     "metadata": {},
     "output_type": "execute_result"
    }
   ],
   "source": [
    "df[df[\"Name\"] == \"Joey Gallo\"][\"HR\"] - df[df[\"Name\"] == \"Joey Gallo\"][\"HR_100G\"]\n",
    "#wow, the projections must have him playing close to in 100 games"
   ]
  },
  {
   "cell_type": "markdown",
   "metadata": {},
   "source": [
    "Lets do the same for the home run leader, Giancarlo Stanton"
   ]
  },
  {
   "cell_type": "code",
   "execution_count": 19,
   "metadata": {
    "pycharm": {
     "name": "#%%\n"
    }
   },
   "outputs": [
    {
     "data": {
      "text/plain": [
       "53    11.0\n",
       "dtype: float64"
      ]
     },
     "execution_count": 19,
     "metadata": {},
     "output_type": "execute_result"
    }
   ],
   "source": [
    "df[df[\"Name\"] == \"Giancarlo Stanton\"][\"HR\"] - df[df[\"Name\"] == \"Giancarlo Stanton\"][\"HR_100G\"]\n",
    "#he hit 11 home runs less in a 100 game season"
   ]
  },
  {
   "cell_type": "markdown",
   "metadata": {},
   "source": [
    "What's Joey Gallos new HR z-score?"
   ]
  },
  {
   "cell_type": "code",
   "execution_count": 20,
   "metadata": {
    "pycharm": {
     "name": "#%%\n"
    }
   },
   "outputs": [
    {
     "data": {
      "text/plain": [
       "4.71222786037315"
      ]
     },
     "execution_count": 20,
     "metadata": {},
     "output_type": "execute_result"
    }
   ],
   "source": [
    "(df[\"HR_100G\"].max() - df[\"HR_100G\"].mean())/df[\"HR_100G\"].std()"
   ]
  },
  {
   "cell_type": "markdown",
   "metadata": {},
   "source": [
    "Finally, lets analyze slugging percentage, SLG\n",
    "\n",
    "Since this is a percentage stat, no need to do adjustments\n",
    "\n",
    "Who is the highest?"
   ]
  },
  {
   "cell_type": "code",
   "execution_count": 21,
   "metadata": {
    "pycharm": {
     "name": "#%%\n"
    }
   },
   "outputs": [
    {
     "data": {
      "text/plain": [
       "0    Mike Trout\n",
       "Name: Name, dtype: object"
      ]
     },
     "execution_count": 21,
     "metadata": {},
     "output_type": "execute_result"
    }
   ],
   "source": [
    "mask = df[\"SLG\"] == df[\"SLG\"].max()\n",
    "df[mask][\"Name\"]\n",
    "#Mike Trout has the highest SLG"
   ]
  },
  {
   "cell_type": "markdown",
   "metadata": {},
   "source": [
    "What is Mike Trout's slugging?"
   ]
  },
  {
   "cell_type": "code",
   "execution_count": 22,
   "metadata": {
    "pycharm": {
     "name": "#%%\n"
    }
   },
   "outputs": [
    {
     "data": {
      "text/plain": [
       "0.617"
      ]
     },
     "execution_count": 22,
     "metadata": {},
     "output_type": "execute_result"
    }
   ],
   "source": [
    "df[\"SLG\"].max()\n",
    "#0.617"
   ]
  },
  {
   "cell_type": "markdown",
   "metadata": {},
   "source": [
    "How much better is this than average, on a z-score basis"
   ]
  },
  {
   "cell_type": "code",
   "execution_count": 23,
   "metadata": {
    "pycharm": {
     "name": "#%%\n"
    }
   },
   "outputs": [
    {
     "data": {
      "text/plain": [
       "3.930018854896447"
      ]
     },
     "execution_count": 23,
     "metadata": {},
     "output_type": "execute_result"
    }
   ],
   "source": [
    "(df[\"SLG\"].max()-df[\"SLG\"].mean())/df[\"SLG\"].std()\n",
    "#3.9 standard deviaitons above norms"
   ]
  },
  {
   "cell_type": "code",
   "execution_count": null,
   "metadata": {
    "pycharm": {
     "name": "#%%\n"
    }
   },
   "outputs": [],
   "source": []
  },
  {
   "cell_type": "markdown",
   "metadata": {},
   "source": [
    "### Who is the Best at Getting On Base/Best Overall Hitter"
   ]
  },
  {
   "cell_type": "markdown",
   "metadata": {},
   "source": [
    "### CONCLUSIONS: Mike Trout is the best at getting on base (OBP is 4.8 standard deviations better than the average) and the best hitter by wOBA (4.3 standard deviations above average), a complete measure of hitting ability.\n",
    "\n",
    "### Edge: Mike Trout!"
   ]
  },
  {
   "cell_type": "markdown",
   "metadata": {},
   "source": [
    "First lets look at On Base Percentage\n",
    "\n",
    "Since this is a percentage, we don't need to make playing time adjustments\n",
    "\n",
    "Who has the best OBP"
   ]
  },
  {
   "cell_type": "code",
   "execution_count": 24,
   "metadata": {
    "pycharm": {
     "name": "#%%\n"
    }
   },
   "outputs": [
    {
     "data": {
      "text/plain": [
       "0    Mike Trout\n",
       "Name: Name, dtype: object"
      ]
     },
     "execution_count": 24,
     "metadata": {},
     "output_type": "execute_result"
    }
   ],
   "source": [
    "mask = df[\"OBP\"] == df[\"OBP\"].max()\n",
    "df[mask][\"Name\"]\n",
    "#Mike Trout Leads OBP"
   ]
  },
  {
   "cell_type": "markdown",
   "metadata": {},
   "source": [
    "And what is his OBP?"
   ]
  },
  {
   "cell_type": "code",
   "execution_count": 25,
   "metadata": {
    "pycharm": {
     "name": "#%%\n"
    }
   },
   "outputs": [
    {
     "data": {
      "text/plain": [
       "0.43799999999999994"
      ]
     },
     "execution_count": 25,
     "metadata": {},
     "output_type": "execute_result"
    }
   ],
   "source": [
    "df[\"OBP\"].max()\n",
    "#0.438, very good!"
   ]
  },
  {
   "cell_type": "markdown",
   "metadata": {},
   "source": [
    "How many standard deviations better than average is this?"
   ]
  },
  {
   "cell_type": "code",
   "execution_count": 26,
   "metadata": {
    "pycharm": {
     "name": "#%%\n"
    }
   },
   "outputs": [
    {
     "data": {
      "text/plain": [
       "4.753733854047292"
      ]
     },
     "execution_count": 26,
     "metadata": {},
     "output_type": "execute_result"
    }
   ],
   "source": [
    "(df[\"OBP\"].max() - df[\"OBP\"].mean())/df[\"OBP\"].std()\n",
    "#4.8 standard deviations above"
   ]
  },
  {
   "cell_type": "markdown",
   "metadata": {},
   "source": [
    "And who has the worst OBP?"
   ]
  },
  {
   "cell_type": "code",
   "execution_count": 27,
   "metadata": {
    "pycharm": {
     "name": "#%%\n"
    }
   },
   "outputs": [
    {
     "data": {
      "text/plain": [
       "1170    Michael Davis\n",
       "Name: Name, dtype: object"
      ]
     },
     "execution_count": 27,
     "metadata": {},
     "output_type": "execute_result"
    }
   ],
   "source": [
    "mask = df[\"OBP\"] == df[\"OBP\"].min()\n",
    "df[mask][\"Name\"]\n",
    "#Michael Davis"
   ]
  },
  {
   "cell_type": "markdown",
   "metadata": {},
   "source": [
    "What's Michael Davis's OBP"
   ]
  },
  {
   "cell_type": "code",
   "execution_count": 28,
   "metadata": {
    "pycharm": {
     "name": "#%%\n"
    }
   },
   "outputs": [
    {
     "data": {
      "text/plain": [
       "0.213"
      ]
     },
     "execution_count": 28,
     "metadata": {},
     "output_type": "execute_result"
    }
   ],
   "source": [
    "df[\"OBP\"].min() \n",
    "#0.213 Yuck!"
   ]
  },
  {
   "cell_type": "markdown",
   "metadata": {},
   "source": [
    "Now lets do the same for a more complete measure of hitting abiltiy wOBA\n",
    "\n",
    "Which weights AVG, OBP and SLG (the batters triple slash) into one measure"
   ]
  },
  {
   "cell_type": "code",
   "execution_count": 29,
   "metadata": {
    "pycharm": {
     "name": "#%%\n"
    },
    "scrolled": true
   },
   "outputs": [
    {
     "data": {
      "text/plain": [
       "0    Mike Trout\n",
       "Name: Name, dtype: object"
      ]
     },
     "execution_count": 29,
     "metadata": {},
     "output_type": "execute_result"
    }
   ],
   "source": [
    "mask = df[\"wOBA\"] == df[\"wOBA\"].max()\n",
    "df[mask][\"Name\"]\n",
    "#Mike Trout leads on wOBA"
   ]
  },
  {
   "cell_type": "markdown",
   "metadata": {},
   "source": [
    "And what is his wOBA?"
   ]
  },
  {
   "cell_type": "code",
   "execution_count": 30,
   "metadata": {
    "pycharm": {
     "name": "#%%\n"
    }
   },
   "outputs": [
    {
     "data": {
      "text/plain": [
       "0.42700000000000005"
      ]
     },
     "execution_count": 30,
     "metadata": {},
     "output_type": "execute_result"
    }
   ],
   "source": [
    "df[\"wOBA\"].max()\n",
    "#0.427, also very good!"
   ]
  },
  {
   "cell_type": "markdown",
   "metadata": {},
   "source": [
    "How many standard deviations better than average is this?"
   ]
  },
  {
   "cell_type": "code",
   "execution_count": 31,
   "metadata": {
    "pycharm": {
     "name": "#%%\n"
    }
   },
   "outputs": [
    {
     "data": {
      "text/plain": [
       "4.2927182503898695"
      ]
     },
     "execution_count": 31,
     "metadata": {},
     "output_type": "execute_result"
    }
   ],
   "source": [
    "(df[\"wOBA\"].max() - df[\"wOBA\"].mean())/df[\"wOBA\"].std()\n",
    "#4.3 standard deviations above"
   ]
  },
  {
   "cell_type": "markdown",
   "metadata": {},
   "source": [
    "And who has the worst wOBA?"
   ]
  },
  {
   "cell_type": "code",
   "execution_count": 32,
   "metadata": {
    "pycharm": {
     "name": "#%%\n"
    }
   },
   "outputs": [
    {
     "data": {
      "text/plain": [
       "1327    Tim Tebow\n",
       "Name: Name, dtype: object"
      ]
     },
     "execution_count": 32,
     "metadata": {},
     "output_type": "execute_result"
    }
   ],
   "source": [
    "mask = df[\"wOBA\"] == df[\"wOBA\"].min()\n",
    "df[mask][\"Name\"]\n",
    "#Tim Tebow, shoulda stuck with football!"
   ]
  },
  {
   "cell_type": "markdown",
   "metadata": {},
   "source": [
    "What's Tim Tebow's wOBA"
   ]
  },
  {
   "cell_type": "code",
   "execution_count": 33,
   "metadata": {
    "pycharm": {
     "name": "#%%\n"
    }
   },
   "outputs": [
    {
     "data": {
      "text/plain": [
       "0.205"
      ]
     },
     "execution_count": 33,
     "metadata": {},
     "output_type": "execute_result"
    }
   ],
   "source": [
    "df[\"wOBA\"].min() \n",
    "#0.205"
   ]
  },
  {
   "cell_type": "code",
   "execution_count": null,
   "metadata": {
    "pycharm": {
     "name": "#%%\n"
    }
   },
   "outputs": [],
   "source": []
  },
  {
   "cell_type": "markdown",
   "metadata": {},
   "source": [
    "### Who is the Best All-Around Player by WAR (which uses offense, defense and basrunning ability in its calculation)?"
   ]
  },
  {
   "cell_type": "markdown",
   "metadata": {},
   "source": [
    "### CONCLUSIONS: Mike Trout is hands down the best overall player, projected for 7.9 WAR in a full season and a still great 5.8 in a 100 game season"
   ]
  },
  {
   "cell_type": "markdown",
   "metadata": {},
   "source": [
    "Lets look at who would lead WAR in a full season"
   ]
  },
  {
   "cell_type": "code",
   "execution_count": 34,
   "metadata": {
    "pycharm": {
     "name": "#%%\n"
    }
   },
   "outputs": [
    {
     "data": {
      "text/plain": [
       "0    Mike Trout\n",
       "Name: Name, dtype: object"
      ]
     },
     "execution_count": 34,
     "metadata": {},
     "output_type": "execute_result"
    }
   ],
   "source": [
    "mask = df[\"WAR\"] == df[\"WAR\"].max()\n",
    "df[mask][\"Name\"]\n",
    "#no surprise, its Mike Trout"
   ]
  },
  {
   "cell_type": "markdown",
   "metadata": {},
   "source": [
    "What is his WAR?"
   ]
  },
  {
   "cell_type": "code",
   "execution_count": 35,
   "metadata": {
    "pycharm": {
     "name": "#%%\n"
    }
   },
   "outputs": [
    {
     "data": {
      "text/plain": [
       "7.9"
      ]
     },
     "execution_count": 35,
     "metadata": {},
     "output_type": "execute_result"
    }
   ],
   "source": [
    "df[\"WAR\"].max()\n",
    "#wow 7.9"
   ]
  },
  {
   "cell_type": "markdown",
   "metadata": {},
   "source": [
    "Who has the least WAR?"
   ]
  },
  {
   "cell_type": "code",
   "execution_count": 36,
   "metadata": {
    "pycharm": {
     "name": "#%%\n"
    }
   },
   "outputs": [
    {
     "data": {
      "text/plain": [
       "1327    Tim Tebow\n",
       "Name: Name, dtype: object"
      ]
     },
     "execution_count": 36,
     "metadata": {},
     "output_type": "execute_result"
    }
   ],
   "source": [
    "mask = df[\"WAR\"] == df[\"WAR\"].min()\n",
    "df[mask][\"Name\"]\n",
    "#Tim Tebow"
   ]
  },
  {
   "cell_type": "markdown",
   "metadata": {},
   "source": [
    "And what is his WAR?"
   ]
  },
  {
   "cell_type": "code",
   "execution_count": 37,
   "metadata": {
    "pycharm": {
     "name": "#%%\n"
    }
   },
   "outputs": [
    {
     "data": {
      "text/plain": [
       "-3.4"
      ]
     },
     "execution_count": 37,
     "metadata": {},
     "output_type": "execute_result"
    }
   ],
   "source": [
    "df[\"WAR\"].min()\n",
    "#-3.4, thats not good!"
   ]
  },
  {
   "cell_type": "markdown",
   "metadata": {},
   "source": [
    "Lets adjust the WAR column similar to what we did for HR/AB, this time all in one cell!\n",
    "\n",
    "This time, we will do it by games played and again assume 100 games get played in 2020 instead of the standard 162"
   ]
  },
  {
   "cell_type": "code",
   "execution_count": 38,
   "metadata": {
    "pycharm": {
     "name": "#%%\n"
    }
   },
   "outputs": [
    {
     "data": {
      "text/html": [
       "<div>\n",
       "<style scoped>\n",
       "    .dataframe tbody tr th:only-of-type {\n",
       "        vertical-align: middle;\n",
       "    }\n",
       "\n",
       "    .dataframe tbody tr th {\n",
       "        vertical-align: top;\n",
       "    }\n",
       "\n",
       "    .dataframe thead th {\n",
       "        text-align: right;\n",
       "    }\n",
       "</style>\n",
       "<table border=\"1\" class=\"dataframe\">\n",
       "  <thead>\n",
       "    <tr style=\"text-align: right;\">\n",
       "      <th></th>\n",
       "      <th>Name</th>\n",
       "      <th>Team</th>\n",
       "      <th>G</th>\n",
       "      <th>PA</th>\n",
       "      <th>AB</th>\n",
       "      <th>H</th>\n",
       "      <th>2B</th>\n",
       "      <th>3B</th>\n",
       "      <th>HR</th>\n",
       "      <th>R</th>\n",
       "      <th>...</th>\n",
       "      <th>Fld</th>\n",
       "      <th>BsR</th>\n",
       "      <th>WAR</th>\n",
       "      <th>ADP</th>\n",
       "      <th>playerid</th>\n",
       "      <th>HR_ZScore</th>\n",
       "      <th>HR_perAB</th>\n",
       "      <th>HR_100G</th>\n",
       "      <th>War_perGame</th>\n",
       "      <th>WAR_100G</th>\n",
       "    </tr>\n",
       "  </thead>\n",
       "  <tbody>\n",
       "    <tr>\n",
       "      <td>0</td>\n",
       "      <td>Mike Trout</td>\n",
       "      <td>Angels</td>\n",
       "      <td>137</td>\n",
       "      <td>600</td>\n",
       "      <td>472</td>\n",
       "      <td>139</td>\n",
       "      <td>26</td>\n",
       "      <td>3</td>\n",
       "      <td>40</td>\n",
       "      <td>107</td>\n",
       "      <td>...</td>\n",
       "      <td>0</td>\n",
       "      <td>1.7</td>\n",
       "      <td>7.9</td>\n",
       "      <td>2.3</td>\n",
       "      <td>10155</td>\n",
       "      <td>3.900088</td>\n",
       "      <td>0.084746</td>\n",
       "      <td>31.0</td>\n",
       "      <td>0.057664</td>\n",
       "      <td>5.766423</td>\n",
       "    </tr>\n",
       "    <tr>\n",
       "      <td>1</td>\n",
       "      <td>Alex Bregman</td>\n",
       "      <td>Astros</td>\n",
       "      <td>154</td>\n",
       "      <td>672</td>\n",
       "      <td>560</td>\n",
       "      <td>161</td>\n",
       "      <td>39</td>\n",
       "      <td>3</td>\n",
       "      <td>34</td>\n",
       "      <td>110</td>\n",
       "      <td>...</td>\n",
       "      <td>1</td>\n",
       "      <td>0.3</td>\n",
       "      <td>7.1</td>\n",
       "      <td>15.8</td>\n",
       "      <td>17678</td>\n",
       "      <td>3.078995</td>\n",
       "      <td>0.060714</td>\n",
       "      <td>22.0</td>\n",
       "      <td>0.046104</td>\n",
       "      <td>4.610390</td>\n",
       "    </tr>\n",
       "    <tr>\n",
       "      <td>2</td>\n",
       "      <td>Mookie Betts</td>\n",
       "      <td>Dodgers</td>\n",
       "      <td>151</td>\n",
       "      <td>698</td>\n",
       "      <td>608</td>\n",
       "      <td>179</td>\n",
       "      <td>39</td>\n",
       "      <td>5</td>\n",
       "      <td>34</td>\n",
       "      <td>126</td>\n",
       "      <td>...</td>\n",
       "      <td>0</td>\n",
       "      <td>2.1</td>\n",
       "      <td>6.1</td>\n",
       "      <td>6.0</td>\n",
       "      <td>13611</td>\n",
       "      <td>3.078995</td>\n",
       "      <td>0.055921</td>\n",
       "      <td>21.0</td>\n",
       "      <td>0.040397</td>\n",
       "      <td>4.039735</td>\n",
       "    </tr>\n",
       "    <tr>\n",
       "      <td>3</td>\n",
       "      <td>Francisco Lindor</td>\n",
       "      <td>Indians</td>\n",
       "      <td>156</td>\n",
       "      <td>709</td>\n",
       "      <td>637</td>\n",
       "      <td>184</td>\n",
       "      <td>41</td>\n",
       "      <td>3</td>\n",
       "      <td>34</td>\n",
       "      <td>113</td>\n",
       "      <td>...</td>\n",
       "      <td>9</td>\n",
       "      <td>1.4</td>\n",
       "      <td>6.0</td>\n",
       "      <td>8.2</td>\n",
       "      <td>12916</td>\n",
       "      <td>3.078995</td>\n",
       "      <td>0.053375</td>\n",
       "      <td>20.0</td>\n",
       "      <td>0.038462</td>\n",
       "      <td>3.846154</td>\n",
       "    </tr>\n",
       "    <tr>\n",
       "      <td>4</td>\n",
       "      <td>Juan Soto</td>\n",
       "      <td>Nationals</td>\n",
       "      <td>155</td>\n",
       "      <td>678</td>\n",
       "      <td>559</td>\n",
       "      <td>165</td>\n",
       "      <td>33</td>\n",
       "      <td>5</td>\n",
       "      <td>36</td>\n",
       "      <td>115</td>\n",
       "      <td>...</td>\n",
       "      <td>-1</td>\n",
       "      <td>0.9</td>\n",
       "      <td>5.7</td>\n",
       "      <td>11.0</td>\n",
       "      <td>20123</td>\n",
       "      <td>3.352693</td>\n",
       "      <td>0.064401</td>\n",
       "      <td>24.0</td>\n",
       "      <td>0.036774</td>\n",
       "      <td>3.677419</td>\n",
       "    </tr>\n",
       "    <tr>\n",
       "      <td>...</td>\n",
       "      <td>...</td>\n",
       "      <td>...</td>\n",
       "      <td>...</td>\n",
       "      <td>...</td>\n",
       "      <td>...</td>\n",
       "      <td>...</td>\n",
       "      <td>...</td>\n",
       "      <td>...</td>\n",
       "      <td>...</td>\n",
       "      <td>...</td>\n",
       "      <td>...</td>\n",
       "      <td>...</td>\n",
       "      <td>...</td>\n",
       "      <td>...</td>\n",
       "      <td>...</td>\n",
       "      <td>...</td>\n",
       "      <td>...</td>\n",
       "      <td>...</td>\n",
       "      <td>...</td>\n",
       "      <td>...</td>\n",
       "      <td>...</td>\n",
       "    </tr>\n",
       "    <tr>\n",
       "      <td>1323</td>\n",
       "      <td>Gio Brusa</td>\n",
       "      <td>NaN</td>\n",
       "      <td>110</td>\n",
       "      <td>428</td>\n",
       "      <td>391</td>\n",
       "      <td>66</td>\n",
       "      <td>16</td>\n",
       "      <td>2</td>\n",
       "      <td>13</td>\n",
       "      <td>40</td>\n",
       "      <td>...</td>\n",
       "      <td>-4</td>\n",
       "      <td>-0.2</td>\n",
       "      <td>-2.8</td>\n",
       "      <td>999.0</td>\n",
       "      <td>sa659068</td>\n",
       "      <td>0.205170</td>\n",
       "      <td>0.033248</td>\n",
       "      <td>12.0</td>\n",
       "      <td>-0.025455</td>\n",
       "      <td>-2.545455</td>\n",
       "    </tr>\n",
       "    <tr>\n",
       "      <td>1324</td>\n",
       "      <td>Lazaro Armenteros</td>\n",
       "      <td>Athletics</td>\n",
       "      <td>119</td>\n",
       "      <td>506</td>\n",
       "      <td>455</td>\n",
       "      <td>78</td>\n",
       "      <td>14</td>\n",
       "      <td>2</td>\n",
       "      <td>14</td>\n",
       "      <td>48</td>\n",
       "      <td>...</td>\n",
       "      <td>-10</td>\n",
       "      <td>-0.5</td>\n",
       "      <td>-2.9</td>\n",
       "      <td>999.0</td>\n",
       "      <td>sa969091</td>\n",
       "      <td>0.342019</td>\n",
       "      <td>0.030769</td>\n",
       "      <td>11.0</td>\n",
       "      <td>-0.024370</td>\n",
       "      <td>-2.436975</td>\n",
       "    </tr>\n",
       "    <tr>\n",
       "      <td>1325</td>\n",
       "      <td>Elier Hernandez</td>\n",
       "      <td>NaN</td>\n",
       "      <td>115</td>\n",
       "      <td>458</td>\n",
       "      <td>429</td>\n",
       "      <td>88</td>\n",
       "      <td>18</td>\n",
       "      <td>2</td>\n",
       "      <td>5</td>\n",
       "      <td>38</td>\n",
       "      <td>...</td>\n",
       "      <td>-4</td>\n",
       "      <td>-1.4</td>\n",
       "      <td>-3.0</td>\n",
       "      <td>999.0</td>\n",
       "      <td>sa659238</td>\n",
       "      <td>-0.889620</td>\n",
       "      <td>0.011655</td>\n",
       "      <td>4.0</td>\n",
       "      <td>-0.026087</td>\n",
       "      <td>-2.608696</td>\n",
       "    </tr>\n",
       "    <tr>\n",
       "      <td>1326</td>\n",
       "      <td>Courtney Hawkins</td>\n",
       "      <td>NaN</td>\n",
       "      <td>100</td>\n",
       "      <td>417</td>\n",
       "      <td>390</td>\n",
       "      <td>70</td>\n",
       "      <td>17</td>\n",
       "      <td>0</td>\n",
       "      <td>13</td>\n",
       "      <td>37</td>\n",
       "      <td>...</td>\n",
       "      <td>-6</td>\n",
       "      <td>-1.7</td>\n",
       "      <td>-3.0</td>\n",
       "      <td>999.0</td>\n",
       "      <td>sa657904</td>\n",
       "      <td>0.205170</td>\n",
       "      <td>0.033333</td>\n",
       "      <td>12.0</td>\n",
       "      <td>-0.030000</td>\n",
       "      <td>-3.000000</td>\n",
       "    </tr>\n",
       "    <tr>\n",
       "      <td>1327</td>\n",
       "      <td>Tim Tebow</td>\n",
       "      <td>Mets</td>\n",
       "      <td>91</td>\n",
       "      <td>328</td>\n",
       "      <td>303</td>\n",
       "      <td>49</td>\n",
       "      <td>10</td>\n",
       "      <td>1</td>\n",
       "      <td>4</td>\n",
       "      <td>25</td>\n",
       "      <td>...</td>\n",
       "      <td>-9</td>\n",
       "      <td>-0.6</td>\n",
       "      <td>-3.4</td>\n",
       "      <td>999.0</td>\n",
       "      <td>sa323152</td>\n",
       "      <td>-1.026469</td>\n",
       "      <td>0.013201</td>\n",
       "      <td>5.0</td>\n",
       "      <td>-0.037363</td>\n",
       "      <td>-3.736264</td>\n",
       "    </tr>\n",
       "  </tbody>\n",
       "</table>\n",
       "<p>1328 rows × 31 columns</p>\n",
       "</div>"
      ],
      "text/plain": [
       "                   Name       Team    G   PA   AB    H  2B  3B  HR    R  ...  \\\n",
       "0            Mike Trout     Angels  137  600  472  139  26   3  40  107  ...   \n",
       "1          Alex Bregman     Astros  154  672  560  161  39   3  34  110  ...   \n",
       "2          Mookie Betts    Dodgers  151  698  608  179  39   5  34  126  ...   \n",
       "3      Francisco Lindor    Indians  156  709  637  184  41   3  34  113  ...   \n",
       "4             Juan Soto  Nationals  155  678  559  165  33   5  36  115  ...   \n",
       "...                 ...        ...  ...  ...  ...  ...  ..  ..  ..  ...  ...   \n",
       "1323          Gio Brusa        NaN  110  428  391   66  16   2  13   40  ...   \n",
       "1324  Lazaro Armenteros  Athletics  119  506  455   78  14   2  14   48  ...   \n",
       "1325    Elier Hernandez        NaN  115  458  429   88  18   2   5   38  ...   \n",
       "1326   Courtney Hawkins        NaN  100  417  390   70  17   0  13   37  ...   \n",
       "1327          Tim Tebow       Mets   91  328  303   49  10   1   4   25  ...   \n",
       "\n",
       "      Fld  BsR  WAR    ADP  playerid  HR_ZScore  HR_perAB  HR_100G  \\\n",
       "0       0  1.7  7.9    2.3     10155   3.900088  0.084746     31.0   \n",
       "1       1  0.3  7.1   15.8     17678   3.078995  0.060714     22.0   \n",
       "2       0  2.1  6.1    6.0     13611   3.078995  0.055921     21.0   \n",
       "3       9  1.4  6.0    8.2     12916   3.078995  0.053375     20.0   \n",
       "4      -1  0.9  5.7   11.0     20123   3.352693  0.064401     24.0   \n",
       "...   ...  ...  ...    ...       ...        ...       ...      ...   \n",
       "1323   -4 -0.2 -2.8  999.0  sa659068   0.205170  0.033248     12.0   \n",
       "1324  -10 -0.5 -2.9  999.0  sa969091   0.342019  0.030769     11.0   \n",
       "1325   -4 -1.4 -3.0  999.0  sa659238  -0.889620  0.011655      4.0   \n",
       "1326   -6 -1.7 -3.0  999.0  sa657904   0.205170  0.033333     12.0   \n",
       "1327   -9 -0.6 -3.4  999.0  sa323152  -1.026469  0.013201      5.0   \n",
       "\n",
       "      War_perGame  WAR_100G  \n",
       "0        0.057664  5.766423  \n",
       "1        0.046104  4.610390  \n",
       "2        0.040397  4.039735  \n",
       "3        0.038462  3.846154  \n",
       "4        0.036774  3.677419  \n",
       "...           ...       ...  \n",
       "1323    -0.025455 -2.545455  \n",
       "1324    -0.024370 -2.436975  \n",
       "1325    -0.026087 -2.608696  \n",
       "1326    -0.030000 -3.000000  \n",
       "1327    -0.037363 -3.736264  \n",
       "\n",
       "[1328 rows x 31 columns]"
      ]
     },
     "execution_count": 38,
     "metadata": {},
     "output_type": "execute_result"
    }
   ],
   "source": [
    "def WAR_perGame(x):\n",
    "    df[\"War_perGame\"] = df[\"WAR\"]/df[\"G\"]\n",
    "df.apply(WAR_perGame)\n",
    "def WAR_100G(x):\n",
    "    df[\"WAR_100G\"] = df[\"War_perGame\"] *100\n",
    "df.apply(WAR_100G)\n",
    "df"
   ]
  },
  {
   "cell_type": "markdown",
   "metadata": {},
   "source": [
    "Now, lets see if Mike Trout still leads?"
   ]
  },
  {
   "cell_type": "code",
   "execution_count": 39,
   "metadata": {
    "pycharm": {
     "name": "#%%\n"
    }
   },
   "outputs": [
    {
     "data": {
      "text/plain": [
       "0    Mike Trout\n",
       "Name: Name, dtype: object"
      ]
     },
     "execution_count": 39,
     "metadata": {},
     "output_type": "execute_result"
    }
   ],
   "source": [
    "mask = df[\"WAR_100G\"] == df[\"WAR_100G\"].max()\n",
    "df[mask][\"Name\"]\n",
    "#Still Mike Trout"
   ]
  },
  {
   "cell_type": "markdown",
   "metadata": {},
   "source": [
    "And what's his WAR?"
   ]
  },
  {
   "cell_type": "code",
   "execution_count": 40,
   "metadata": {
    "pycharm": {
     "name": "#%%\n"
    }
   },
   "outputs": [
    {
     "data": {
      "text/plain": [
       "5.766423357664234"
      ]
     },
     "execution_count": 40,
     "metadata": {},
     "output_type": "execute_result"
    }
   ],
   "source": [
    "df[\"WAR_100G\"].max()\n",
    "#5.8, still very good"
   ]
  },
  {
   "cell_type": "markdown",
   "metadata": {},
   "source": [
    "Is Tim Tebow still the worst?"
   ]
  },
  {
   "cell_type": "code",
   "execution_count": 41,
   "metadata": {
    "pycharm": {
     "name": "#%%\n"
    }
   },
   "outputs": [
    {
     "data": {
      "text/plain": [
       "1327    Tim Tebow\n",
       "Name: Name, dtype: object"
      ]
     },
     "execution_count": 41,
     "metadata": {},
     "output_type": "execute_result"
    }
   ],
   "source": [
    "mask = df[\"WAR_100G\"] == df[\"WAR_100G\"].min()\n",
    "df[mask][\"Name\"]\n",
    "#He is!"
   ]
  },
  {
   "cell_type": "markdown",
   "metadata": {},
   "source": [
    "And what's his WAR?"
   ]
  },
  {
   "cell_type": "code",
   "execution_count": 42,
   "metadata": {
    "pycharm": {
     "name": "#%%\n"
    }
   },
   "outputs": [
    {
     "data": {
      "text/plain": [
       "-3.7362637362637363"
      ]
     },
     "execution_count": 42,
     "metadata": {},
     "output_type": "execute_result"
    }
   ],
   "source": [
    "df[\"WAR_100G\"].min()\n",
    "#-3.7, even worse. He must be projected to play less than 100 games"
   ]
  },
  {
   "cell_type": "markdown",
   "metadata": {},
   "source": [
    "### One Last Player Specfic Goal, Lets look at the stat line for my favorite player, Aaron Judge"
   ]
  },
  {
   "cell_type": "markdown",
   "metadata": {},
   "source": [
    "### CONCLUSION: In a 100 game season, Judge will hit 28 home runs and produce 3.8 WAR. This is light in my opinion and likely reflects the original author's assumption that the pre-season injury would sap some of his ability. With the season starting late, its likely he will be fully healthy in 2020 and could surpass those numbers"
   ]
  },
  {
   "cell_type": "markdown",
   "metadata": {},
   "source": [
    "Set the index so we can look at his stat line"
   ]
  },
  {
   "cell_type": "code",
   "execution_count": 43,
   "metadata": {
    "pycharm": {
     "name": "#%%\n"
    }
   },
   "outputs": [
    {
     "data": {
      "text/html": [
       "<div>\n",
       "<style scoped>\n",
       "    .dataframe tbody tr th:only-of-type {\n",
       "        vertical-align: middle;\n",
       "    }\n",
       "\n",
       "    .dataframe tbody tr th {\n",
       "        vertical-align: top;\n",
       "    }\n",
       "\n",
       "    .dataframe thead th {\n",
       "        text-align: right;\n",
       "    }\n",
       "</style>\n",
       "<table border=\"1\" class=\"dataframe\">\n",
       "  <thead>\n",
       "    <tr style=\"text-align: right;\">\n",
       "      <th></th>\n",
       "      <th>Team</th>\n",
       "      <th>G</th>\n",
       "      <th>PA</th>\n",
       "      <th>AB</th>\n",
       "      <th>H</th>\n",
       "      <th>2B</th>\n",
       "      <th>3B</th>\n",
       "      <th>HR</th>\n",
       "      <th>R</th>\n",
       "      <th>RBI</th>\n",
       "      <th>...</th>\n",
       "      <th>Fld</th>\n",
       "      <th>BsR</th>\n",
       "      <th>WAR</th>\n",
       "      <th>ADP</th>\n",
       "      <th>playerid</th>\n",
       "      <th>HR_ZScore</th>\n",
       "      <th>HR_perAB</th>\n",
       "      <th>HR_100G</th>\n",
       "      <th>War_perGame</th>\n",
       "      <th>WAR_100G</th>\n",
       "    </tr>\n",
       "    <tr>\n",
       "      <th>Name</th>\n",
       "      <th></th>\n",
       "      <th></th>\n",
       "      <th></th>\n",
       "      <th></th>\n",
       "      <th></th>\n",
       "      <th></th>\n",
       "      <th></th>\n",
       "      <th></th>\n",
       "      <th></th>\n",
       "      <th></th>\n",
       "      <th></th>\n",
       "      <th></th>\n",
       "      <th></th>\n",
       "      <th></th>\n",
       "      <th></th>\n",
       "      <th></th>\n",
       "      <th></th>\n",
       "      <th></th>\n",
       "      <th></th>\n",
       "      <th></th>\n",
       "      <th></th>\n",
       "    </tr>\n",
       "  </thead>\n",
       "  <tbody>\n",
       "    <tr>\n",
       "      <td>Mike Trout</td>\n",
       "      <td>Angels</td>\n",
       "      <td>137</td>\n",
       "      <td>600</td>\n",
       "      <td>472</td>\n",
       "      <td>139</td>\n",
       "      <td>26</td>\n",
       "      <td>3</td>\n",
       "      <td>40</td>\n",
       "      <td>107</td>\n",
       "      <td>102</td>\n",
       "      <td>...</td>\n",
       "      <td>0</td>\n",
       "      <td>1.7</td>\n",
       "      <td>7.9</td>\n",
       "      <td>2.3</td>\n",
       "      <td>10155</td>\n",
       "      <td>3.900088</td>\n",
       "      <td>0.084746</td>\n",
       "      <td>31.0</td>\n",
       "      <td>0.057664</td>\n",
       "      <td>5.766423</td>\n",
       "    </tr>\n",
       "    <tr>\n",
       "      <td>Alex Bregman</td>\n",
       "      <td>Astros</td>\n",
       "      <td>154</td>\n",
       "      <td>672</td>\n",
       "      <td>560</td>\n",
       "      <td>161</td>\n",
       "      <td>39</td>\n",
       "      <td>3</td>\n",
       "      <td>34</td>\n",
       "      <td>110</td>\n",
       "      <td>110</td>\n",
       "      <td>...</td>\n",
       "      <td>1</td>\n",
       "      <td>0.3</td>\n",
       "      <td>7.1</td>\n",
       "      <td>15.8</td>\n",
       "      <td>17678</td>\n",
       "      <td>3.078995</td>\n",
       "      <td>0.060714</td>\n",
       "      <td>22.0</td>\n",
       "      <td>0.046104</td>\n",
       "      <td>4.610390</td>\n",
       "    </tr>\n",
       "    <tr>\n",
       "      <td>Mookie Betts</td>\n",
       "      <td>Dodgers</td>\n",
       "      <td>151</td>\n",
       "      <td>698</td>\n",
       "      <td>608</td>\n",
       "      <td>179</td>\n",
       "      <td>39</td>\n",
       "      <td>5</td>\n",
       "      <td>34</td>\n",
       "      <td>126</td>\n",
       "      <td>97</td>\n",
       "      <td>...</td>\n",
       "      <td>0</td>\n",
       "      <td>2.1</td>\n",
       "      <td>6.1</td>\n",
       "      <td>6.0</td>\n",
       "      <td>13611</td>\n",
       "      <td>3.078995</td>\n",
       "      <td>0.055921</td>\n",
       "      <td>21.0</td>\n",
       "      <td>0.040397</td>\n",
       "      <td>4.039735</td>\n",
       "    </tr>\n",
       "    <tr>\n",
       "      <td>Francisco Lindor</td>\n",
       "      <td>Indians</td>\n",
       "      <td>156</td>\n",
       "      <td>709</td>\n",
       "      <td>637</td>\n",
       "      <td>184</td>\n",
       "      <td>41</td>\n",
       "      <td>3</td>\n",
       "      <td>34</td>\n",
       "      <td>113</td>\n",
       "      <td>93</td>\n",
       "      <td>...</td>\n",
       "      <td>9</td>\n",
       "      <td>1.4</td>\n",
       "      <td>6.0</td>\n",
       "      <td>8.2</td>\n",
       "      <td>12916</td>\n",
       "      <td>3.078995</td>\n",
       "      <td>0.053375</td>\n",
       "      <td>20.0</td>\n",
       "      <td>0.038462</td>\n",
       "      <td>3.846154</td>\n",
       "    </tr>\n",
       "    <tr>\n",
       "      <td>Juan Soto</td>\n",
       "      <td>Nationals</td>\n",
       "      <td>155</td>\n",
       "      <td>678</td>\n",
       "      <td>559</td>\n",
       "      <td>165</td>\n",
       "      <td>33</td>\n",
       "      <td>5</td>\n",
       "      <td>36</td>\n",
       "      <td>115</td>\n",
       "      <td>126</td>\n",
       "      <td>...</td>\n",
       "      <td>-1</td>\n",
       "      <td>0.9</td>\n",
       "      <td>5.7</td>\n",
       "      <td>11.0</td>\n",
       "      <td>20123</td>\n",
       "      <td>3.352693</td>\n",
       "      <td>0.064401</td>\n",
       "      <td>24.0</td>\n",
       "      <td>0.036774</td>\n",
       "      <td>3.677419</td>\n",
       "    </tr>\n",
       "    <tr>\n",
       "      <td>...</td>\n",
       "      <td>...</td>\n",
       "      <td>...</td>\n",
       "      <td>...</td>\n",
       "      <td>...</td>\n",
       "      <td>...</td>\n",
       "      <td>...</td>\n",
       "      <td>...</td>\n",
       "      <td>...</td>\n",
       "      <td>...</td>\n",
       "      <td>...</td>\n",
       "      <td>...</td>\n",
       "      <td>...</td>\n",
       "      <td>...</td>\n",
       "      <td>...</td>\n",
       "      <td>...</td>\n",
       "      <td>...</td>\n",
       "      <td>...</td>\n",
       "      <td>...</td>\n",
       "      <td>...</td>\n",
       "      <td>...</td>\n",
       "      <td>...</td>\n",
       "    </tr>\n",
       "    <tr>\n",
       "      <td>Gio Brusa</td>\n",
       "      <td>NaN</td>\n",
       "      <td>110</td>\n",
       "      <td>428</td>\n",
       "      <td>391</td>\n",
       "      <td>66</td>\n",
       "      <td>16</td>\n",
       "      <td>2</td>\n",
       "      <td>13</td>\n",
       "      <td>40</td>\n",
       "      <td>40</td>\n",
       "      <td>...</td>\n",
       "      <td>-4</td>\n",
       "      <td>-0.2</td>\n",
       "      <td>-2.8</td>\n",
       "      <td>999.0</td>\n",
       "      <td>sa659068</td>\n",
       "      <td>0.205170</td>\n",
       "      <td>0.033248</td>\n",
       "      <td>12.0</td>\n",
       "      <td>-0.025455</td>\n",
       "      <td>-2.545455</td>\n",
       "    </tr>\n",
       "    <tr>\n",
       "      <td>Lazaro Armenteros</td>\n",
       "      <td>Athletics</td>\n",
       "      <td>119</td>\n",
       "      <td>506</td>\n",
       "      <td>455</td>\n",
       "      <td>78</td>\n",
       "      <td>14</td>\n",
       "      <td>2</td>\n",
       "      <td>14</td>\n",
       "      <td>48</td>\n",
       "      <td>44</td>\n",
       "      <td>...</td>\n",
       "      <td>-10</td>\n",
       "      <td>-0.5</td>\n",
       "      <td>-2.9</td>\n",
       "      <td>999.0</td>\n",
       "      <td>sa969091</td>\n",
       "      <td>0.342019</td>\n",
       "      <td>0.030769</td>\n",
       "      <td>11.0</td>\n",
       "      <td>-0.024370</td>\n",
       "      <td>-2.436975</td>\n",
       "    </tr>\n",
       "    <tr>\n",
       "      <td>Elier Hernandez</td>\n",
       "      <td>NaN</td>\n",
       "      <td>115</td>\n",
       "      <td>458</td>\n",
       "      <td>429</td>\n",
       "      <td>88</td>\n",
       "      <td>18</td>\n",
       "      <td>2</td>\n",
       "      <td>5</td>\n",
       "      <td>38</td>\n",
       "      <td>31</td>\n",
       "      <td>...</td>\n",
       "      <td>-4</td>\n",
       "      <td>-1.4</td>\n",
       "      <td>-3.0</td>\n",
       "      <td>999.0</td>\n",
       "      <td>sa659238</td>\n",
       "      <td>-0.889620</td>\n",
       "      <td>0.011655</td>\n",
       "      <td>4.0</td>\n",
       "      <td>-0.026087</td>\n",
       "      <td>-2.608696</td>\n",
       "    </tr>\n",
       "    <tr>\n",
       "      <td>Courtney Hawkins</td>\n",
       "      <td>NaN</td>\n",
       "      <td>100</td>\n",
       "      <td>417</td>\n",
       "      <td>390</td>\n",
       "      <td>70</td>\n",
       "      <td>17</td>\n",
       "      <td>0</td>\n",
       "      <td>13</td>\n",
       "      <td>37</td>\n",
       "      <td>41</td>\n",
       "      <td>...</td>\n",
       "      <td>-6</td>\n",
       "      <td>-1.7</td>\n",
       "      <td>-3.0</td>\n",
       "      <td>999.0</td>\n",
       "      <td>sa657904</td>\n",
       "      <td>0.205170</td>\n",
       "      <td>0.033333</td>\n",
       "      <td>12.0</td>\n",
       "      <td>-0.030000</td>\n",
       "      <td>-3.000000</td>\n",
       "    </tr>\n",
       "    <tr>\n",
       "      <td>Tim Tebow</td>\n",
       "      <td>Mets</td>\n",
       "      <td>91</td>\n",
       "      <td>328</td>\n",
       "      <td>303</td>\n",
       "      <td>49</td>\n",
       "      <td>10</td>\n",
       "      <td>1</td>\n",
       "      <td>4</td>\n",
       "      <td>25</td>\n",
       "      <td>20</td>\n",
       "      <td>...</td>\n",
       "      <td>-9</td>\n",
       "      <td>-0.6</td>\n",
       "      <td>-3.4</td>\n",
       "      <td>999.0</td>\n",
       "      <td>sa323152</td>\n",
       "      <td>-1.026469</td>\n",
       "      <td>0.013201</td>\n",
       "      <td>5.0</td>\n",
       "      <td>-0.037363</td>\n",
       "      <td>-3.736264</td>\n",
       "    </tr>\n",
       "  </tbody>\n",
       "</table>\n",
       "<p>1328 rows × 30 columns</p>\n",
       "</div>"
      ],
      "text/plain": [
       "                        Team    G   PA   AB    H  2B  3B  HR    R  RBI  ...  \\\n",
       "Name                                                                    ...   \n",
       "Mike Trout            Angels  137  600  472  139  26   3  40  107  102  ...   \n",
       "Alex Bregman          Astros  154  672  560  161  39   3  34  110  110  ...   \n",
       "Mookie Betts         Dodgers  151  698  608  179  39   5  34  126   97  ...   \n",
       "Francisco Lindor     Indians  156  709  637  184  41   3  34  113   93  ...   \n",
       "Juan Soto          Nationals  155  678  559  165  33   5  36  115  126  ...   \n",
       "...                      ...  ...  ...  ...  ...  ..  ..  ..  ...  ...  ...   \n",
       "Gio Brusa                NaN  110  428  391   66  16   2  13   40   40  ...   \n",
       "Lazaro Armenteros  Athletics  119  506  455   78  14   2  14   48   44  ...   \n",
       "Elier Hernandez          NaN  115  458  429   88  18   2   5   38   31  ...   \n",
       "Courtney Hawkins         NaN  100  417  390   70  17   0  13   37   41  ...   \n",
       "Tim Tebow               Mets   91  328  303   49  10   1   4   25   20  ...   \n",
       "\n",
       "                   Fld  BsR  WAR    ADP  playerid  HR_ZScore  HR_perAB  \\\n",
       "Name                                                                     \n",
       "Mike Trout           0  1.7  7.9    2.3     10155   3.900088  0.084746   \n",
       "Alex Bregman         1  0.3  7.1   15.8     17678   3.078995  0.060714   \n",
       "Mookie Betts         0  2.1  6.1    6.0     13611   3.078995  0.055921   \n",
       "Francisco Lindor     9  1.4  6.0    8.2     12916   3.078995  0.053375   \n",
       "Juan Soto           -1  0.9  5.7   11.0     20123   3.352693  0.064401   \n",
       "...                ...  ...  ...    ...       ...        ...       ...   \n",
       "Gio Brusa           -4 -0.2 -2.8  999.0  sa659068   0.205170  0.033248   \n",
       "Lazaro Armenteros  -10 -0.5 -2.9  999.0  sa969091   0.342019  0.030769   \n",
       "Elier Hernandez     -4 -1.4 -3.0  999.0  sa659238  -0.889620  0.011655   \n",
       "Courtney Hawkins    -6 -1.7 -3.0  999.0  sa657904   0.205170  0.033333   \n",
       "Tim Tebow           -9 -0.6 -3.4  999.0  sa323152  -1.026469  0.013201   \n",
       "\n",
       "                   HR_100G  War_perGame  WAR_100G  \n",
       "Name                                               \n",
       "Mike Trout            31.0     0.057664  5.766423  \n",
       "Alex Bregman          22.0     0.046104  4.610390  \n",
       "Mookie Betts          21.0     0.040397  4.039735  \n",
       "Francisco Lindor      20.0     0.038462  3.846154  \n",
       "Juan Soto             24.0     0.036774  3.677419  \n",
       "...                    ...          ...       ...  \n",
       "Gio Brusa             12.0    -0.025455 -2.545455  \n",
       "Lazaro Armenteros     11.0    -0.024370 -2.436975  \n",
       "Elier Hernandez        4.0    -0.026087 -2.608696  \n",
       "Courtney Hawkins      12.0    -0.030000 -3.000000  \n",
       "Tim Tebow              5.0    -0.037363 -3.736264  \n",
       "\n",
       "[1328 rows x 30 columns]"
      ]
     },
     "execution_count": 43,
     "metadata": {},
     "output_type": "execute_result"
    }
   ],
   "source": [
    "df.set_index(\"Name\", inplace = True)\n",
    "df"
   ]
  },
  {
   "cell_type": "markdown",
   "metadata": {},
   "source": [
    "Print his entire line, including newly created stats"
   ]
  },
  {
   "cell_type": "code",
   "execution_count": 44,
   "metadata": {
    "pycharm": {
     "name": "#%%\n"
    }
   },
   "outputs": [
    {
     "data": {
      "text/plain": [
       "Team             Yankees\n",
       "G                    120\n",
       "PA                   522\n",
       "AB                   435\n",
       "H                    113\n",
       "2B                    19\n",
       "3B                     1\n",
       "HR                    33\n",
       "R                     84\n",
       "RBI                   82\n",
       "BB                    79\n",
       "SO                   166\n",
       "HBP                    5\n",
       "SB                     5\n",
       "CS                     3\n",
       "AVG                 0.26\n",
       "OBP                0.377\n",
       "SLG                0.536\n",
       "OPS                0.913\n",
       "wOBA               0.379\n",
       "Fld                   10\n",
       "BsR                 -0.6\n",
       "WAR                  4.6\n",
       "ADP                 31.1\n",
       "playerid           15640\n",
       "HR_ZScore        2.94215\n",
       "HR_perAB       0.0758621\n",
       "HR_100G               28\n",
       "War_perGame    0.0383333\n",
       "WAR_100G         3.83333\n",
       "Name: Aaron Judge, dtype: object"
      ]
     },
     "execution_count": 44,
     "metadata": {},
     "output_type": "execute_result"
    }
   ],
   "source": [
    "df.loc[\"Aaron Judge\"]"
   ]
  },
  {
   "cell_type": "markdown",
   "metadata": {},
   "source": [
    "How many home runs in the 100 game season?"
   ]
  },
  {
   "cell_type": "code",
   "execution_count": 45,
   "metadata": {
    "pycharm": {
     "name": "#%%\n"
    }
   },
   "outputs": [
    {
     "data": {
      "text/plain": [
       "28.0"
      ]
     },
     "execution_count": 45,
     "metadata": {},
     "output_type": "execute_result"
    }
   ],
   "source": [
    "df.loc[\"Aaron Judge\"][\"HR_100G\"]\n",
    "#28 HRs, probably a little light since he will be fully healthy!"
   ]
  },
  {
   "cell_type": "markdown",
   "metadata": {},
   "source": [
    "How much WAR will he accumulate over the 100 game season?"
   ]
  },
  {
   "cell_type": "code",
   "execution_count": 46,
   "metadata": {
    "pycharm": {
     "name": "#%%\n"
    }
   },
   "outputs": [
    {
     "data": {
      "text/plain": [
       "3.833333333333333"
      ]
     },
     "execution_count": 46,
     "metadata": {},
     "output_type": "execute_result"
    }
   ],
   "source": [
    "df.loc[\"Aaron Judge\"][\"WAR_100G\"]\n",
    "#3.8, I think this is a little light"
   ]
  },
  {
   "cell_type": "markdown",
   "metadata": {
    "pycharm": {
     "name": "#%%\n"
    }
   },
   "source": [
    "For the next analysis, we dont need to re-set the index, so lets leave it for the rest of the project\n",
    "\n",
    "Could reset if needed using df.reset_index(drop = False, inplace = True)"
   ]
  },
  {
   "cell_type": "code",
   "execution_count": null,
   "metadata": {
    "pycharm": {
     "name": "#%%\n"
    }
   },
   "outputs": [],
   "source": []
  },
  {
   "cell_type": "markdown",
   "metadata": {},
   "source": [
    "### Aggregate Stat Time: Let's Analyze if Strikeouts and HRs are Correlated Using Both Adjusted and Un-Adjusted Data"
   ]
  },
  {
   "cell_type": "markdown",
   "metadata": {},
   "source": [
    "### CONCLUSION: There's evidence of moderate correlation in the un-adjusted data (correl = 0.49) but a weaker correlation based on rate stats (0.26) and a 100 game season adjustment (0.25).\n"
   ]
  },
  {
   "cell_type": "markdown",
   "metadata": {},
   "source": [
    "First, lets create the Strikeouts/AB and Srikeouts/100G season columns to get it out of the way"
   ]
  },
  {
   "cell_type": "code",
   "execution_count": 47,
   "metadata": {
    "pycharm": {
     "name": "#%%\n"
    }
   },
   "outputs": [
    {
     "data": {
      "text/html": [
       "<div>\n",
       "<style scoped>\n",
       "    .dataframe tbody tr th:only-of-type {\n",
       "        vertical-align: middle;\n",
       "    }\n",
       "\n",
       "    .dataframe tbody tr th {\n",
       "        vertical-align: top;\n",
       "    }\n",
       "\n",
       "    .dataframe thead th {\n",
       "        text-align: right;\n",
       "    }\n",
       "</style>\n",
       "<table border=\"1\" class=\"dataframe\">\n",
       "  <thead>\n",
       "    <tr style=\"text-align: right;\">\n",
       "      <th></th>\n",
       "      <th>Team</th>\n",
       "      <th>G</th>\n",
       "      <th>PA</th>\n",
       "      <th>AB</th>\n",
       "      <th>H</th>\n",
       "      <th>2B</th>\n",
       "      <th>3B</th>\n",
       "      <th>HR</th>\n",
       "      <th>R</th>\n",
       "      <th>RBI</th>\n",
       "      <th>...</th>\n",
       "      <th>WAR</th>\n",
       "      <th>ADP</th>\n",
       "      <th>playerid</th>\n",
       "      <th>HR_ZScore</th>\n",
       "      <th>HR_perAB</th>\n",
       "      <th>HR_100G</th>\n",
       "      <th>War_perGame</th>\n",
       "      <th>WAR_100G</th>\n",
       "      <th>SO_perAB</th>\n",
       "      <th>SO_100G</th>\n",
       "    </tr>\n",
       "    <tr>\n",
       "      <th>Name</th>\n",
       "      <th></th>\n",
       "      <th></th>\n",
       "      <th></th>\n",
       "      <th></th>\n",
       "      <th></th>\n",
       "      <th></th>\n",
       "      <th></th>\n",
       "      <th></th>\n",
       "      <th></th>\n",
       "      <th></th>\n",
       "      <th></th>\n",
       "      <th></th>\n",
       "      <th></th>\n",
       "      <th></th>\n",
       "      <th></th>\n",
       "      <th></th>\n",
       "      <th></th>\n",
       "      <th></th>\n",
       "      <th></th>\n",
       "      <th></th>\n",
       "      <th></th>\n",
       "    </tr>\n",
       "  </thead>\n",
       "  <tbody>\n",
       "    <tr>\n",
       "      <td>Mike Trout</td>\n",
       "      <td>Angels</td>\n",
       "      <td>137</td>\n",
       "      <td>600</td>\n",
       "      <td>472</td>\n",
       "      <td>139</td>\n",
       "      <td>26</td>\n",
       "      <td>3</td>\n",
       "      <td>40</td>\n",
       "      <td>107</td>\n",
       "      <td>102</td>\n",
       "      <td>...</td>\n",
       "      <td>7.9</td>\n",
       "      <td>2.3</td>\n",
       "      <td>10155</td>\n",
       "      <td>3.900088</td>\n",
       "      <td>0.084746</td>\n",
       "      <td>31.0</td>\n",
       "      <td>0.057664</td>\n",
       "      <td>5.766423</td>\n",
       "      <td>0.264831</td>\n",
       "      <td>98.085374</td>\n",
       "    </tr>\n",
       "    <tr>\n",
       "      <td>Alex Bregman</td>\n",
       "      <td>Astros</td>\n",
       "      <td>154</td>\n",
       "      <td>672</td>\n",
       "      <td>560</td>\n",
       "      <td>161</td>\n",
       "      <td>39</td>\n",
       "      <td>3</td>\n",
       "      <td>34</td>\n",
       "      <td>110</td>\n",
       "      <td>110</td>\n",
       "      <td>...</td>\n",
       "      <td>7.1</td>\n",
       "      <td>15.8</td>\n",
       "      <td>17678</td>\n",
       "      <td>3.078995</td>\n",
       "      <td>0.060714</td>\n",
       "      <td>22.0</td>\n",
       "      <td>0.046104</td>\n",
       "      <td>4.610390</td>\n",
       "      <td>0.158929</td>\n",
       "      <td>58.862434</td>\n",
       "    </tr>\n",
       "    <tr>\n",
       "      <td>Mookie Betts</td>\n",
       "      <td>Dodgers</td>\n",
       "      <td>151</td>\n",
       "      <td>698</td>\n",
       "      <td>608</td>\n",
       "      <td>179</td>\n",
       "      <td>39</td>\n",
       "      <td>5</td>\n",
       "      <td>34</td>\n",
       "      <td>126</td>\n",
       "      <td>97</td>\n",
       "      <td>...</td>\n",
       "      <td>6.1</td>\n",
       "      <td>6.0</td>\n",
       "      <td>13611</td>\n",
       "      <td>3.078995</td>\n",
       "      <td>0.055921</td>\n",
       "      <td>21.0</td>\n",
       "      <td>0.040397</td>\n",
       "      <td>4.039735</td>\n",
       "      <td>0.157895</td>\n",
       "      <td>58.479532</td>\n",
       "    </tr>\n",
       "    <tr>\n",
       "      <td>Francisco Lindor</td>\n",
       "      <td>Indians</td>\n",
       "      <td>156</td>\n",
       "      <td>709</td>\n",
       "      <td>637</td>\n",
       "      <td>184</td>\n",
       "      <td>41</td>\n",
       "      <td>3</td>\n",
       "      <td>34</td>\n",
       "      <td>113</td>\n",
       "      <td>93</td>\n",
       "      <td>...</td>\n",
       "      <td>6.0</td>\n",
       "      <td>8.2</td>\n",
       "      <td>12916</td>\n",
       "      <td>3.078995</td>\n",
       "      <td>0.053375</td>\n",
       "      <td>20.0</td>\n",
       "      <td>0.038462</td>\n",
       "      <td>3.846154</td>\n",
       "      <td>0.158556</td>\n",
       "      <td>58.724344</td>\n",
       "    </tr>\n",
       "    <tr>\n",
       "      <td>Juan Soto</td>\n",
       "      <td>Nationals</td>\n",
       "      <td>155</td>\n",
       "      <td>678</td>\n",
       "      <td>559</td>\n",
       "      <td>165</td>\n",
       "      <td>33</td>\n",
       "      <td>5</td>\n",
       "      <td>36</td>\n",
       "      <td>115</td>\n",
       "      <td>126</td>\n",
       "      <td>...</td>\n",
       "      <td>5.7</td>\n",
       "      <td>11.0</td>\n",
       "      <td>20123</td>\n",
       "      <td>3.352693</td>\n",
       "      <td>0.064401</td>\n",
       "      <td>24.0</td>\n",
       "      <td>0.036774</td>\n",
       "      <td>3.677419</td>\n",
       "      <td>0.227191</td>\n",
       "      <td>84.144968</td>\n",
       "    </tr>\n",
       "    <tr>\n",
       "      <td>...</td>\n",
       "      <td>...</td>\n",
       "      <td>...</td>\n",
       "      <td>...</td>\n",
       "      <td>...</td>\n",
       "      <td>...</td>\n",
       "      <td>...</td>\n",
       "      <td>...</td>\n",
       "      <td>...</td>\n",
       "      <td>...</td>\n",
       "      <td>...</td>\n",
       "      <td>...</td>\n",
       "      <td>...</td>\n",
       "      <td>...</td>\n",
       "      <td>...</td>\n",
       "      <td>...</td>\n",
       "      <td>...</td>\n",
       "      <td>...</td>\n",
       "      <td>...</td>\n",
       "      <td>...</td>\n",
       "      <td>...</td>\n",
       "      <td>...</td>\n",
       "    </tr>\n",
       "    <tr>\n",
       "      <td>Gio Brusa</td>\n",
       "      <td>NaN</td>\n",
       "      <td>110</td>\n",
       "      <td>428</td>\n",
       "      <td>391</td>\n",
       "      <td>66</td>\n",
       "      <td>16</td>\n",
       "      <td>2</td>\n",
       "      <td>13</td>\n",
       "      <td>40</td>\n",
       "      <td>40</td>\n",
       "      <td>...</td>\n",
       "      <td>-2.8</td>\n",
       "      <td>999.0</td>\n",
       "      <td>sa659068</td>\n",
       "      <td>0.205170</td>\n",
       "      <td>0.033248</td>\n",
       "      <td>12.0</td>\n",
       "      <td>-0.025455</td>\n",
       "      <td>-2.545455</td>\n",
       "      <td>0.462916</td>\n",
       "      <td>171.450223</td>\n",
       "    </tr>\n",
       "    <tr>\n",
       "      <td>Lazaro Armenteros</td>\n",
       "      <td>Athletics</td>\n",
       "      <td>119</td>\n",
       "      <td>506</td>\n",
       "      <td>455</td>\n",
       "      <td>78</td>\n",
       "      <td>14</td>\n",
       "      <td>2</td>\n",
       "      <td>14</td>\n",
       "      <td>48</td>\n",
       "      <td>44</td>\n",
       "      <td>...</td>\n",
       "      <td>-2.9</td>\n",
       "      <td>999.0</td>\n",
       "      <td>sa969091</td>\n",
       "      <td>0.342019</td>\n",
       "      <td>0.030769</td>\n",
       "      <td>11.0</td>\n",
       "      <td>-0.024370</td>\n",
       "      <td>-2.436975</td>\n",
       "      <td>0.492308</td>\n",
       "      <td>182.336182</td>\n",
       "    </tr>\n",
       "    <tr>\n",
       "      <td>Elier Hernandez</td>\n",
       "      <td>NaN</td>\n",
       "      <td>115</td>\n",
       "      <td>458</td>\n",
       "      <td>429</td>\n",
       "      <td>88</td>\n",
       "      <td>18</td>\n",
       "      <td>2</td>\n",
       "      <td>5</td>\n",
       "      <td>38</td>\n",
       "      <td>31</td>\n",
       "      <td>...</td>\n",
       "      <td>-3.0</td>\n",
       "      <td>999.0</td>\n",
       "      <td>sa659238</td>\n",
       "      <td>-0.889620</td>\n",
       "      <td>0.011655</td>\n",
       "      <td>4.0</td>\n",
       "      <td>-0.026087</td>\n",
       "      <td>-2.608696</td>\n",
       "      <td>0.298368</td>\n",
       "      <td>110.506777</td>\n",
       "    </tr>\n",
       "    <tr>\n",
       "      <td>Courtney Hawkins</td>\n",
       "      <td>NaN</td>\n",
       "      <td>100</td>\n",
       "      <td>417</td>\n",
       "      <td>390</td>\n",
       "      <td>70</td>\n",
       "      <td>17</td>\n",
       "      <td>0</td>\n",
       "      <td>13</td>\n",
       "      <td>37</td>\n",
       "      <td>41</td>\n",
       "      <td>...</td>\n",
       "      <td>-3.0</td>\n",
       "      <td>999.0</td>\n",
       "      <td>sa657904</td>\n",
       "      <td>0.205170</td>\n",
       "      <td>0.033333</td>\n",
       "      <td>12.0</td>\n",
       "      <td>-0.030000</td>\n",
       "      <td>-3.000000</td>\n",
       "      <td>0.392308</td>\n",
       "      <td>145.299145</td>\n",
       "    </tr>\n",
       "    <tr>\n",
       "      <td>Tim Tebow</td>\n",
       "      <td>Mets</td>\n",
       "      <td>91</td>\n",
       "      <td>328</td>\n",
       "      <td>303</td>\n",
       "      <td>49</td>\n",
       "      <td>10</td>\n",
       "      <td>1</td>\n",
       "      <td>4</td>\n",
       "      <td>25</td>\n",
       "      <td>20</td>\n",
       "      <td>...</td>\n",
       "      <td>-3.4</td>\n",
       "      <td>999.0</td>\n",
       "      <td>sa323152</td>\n",
       "      <td>-1.026469</td>\n",
       "      <td>0.013201</td>\n",
       "      <td>5.0</td>\n",
       "      <td>-0.037363</td>\n",
       "      <td>-3.736264</td>\n",
       "      <td>0.455446</td>\n",
       "      <td>168.683535</td>\n",
       "    </tr>\n",
       "  </tbody>\n",
       "</table>\n",
       "<p>1328 rows × 32 columns</p>\n",
       "</div>"
      ],
      "text/plain": [
       "                        Team    G   PA   AB    H  2B  3B  HR    R  RBI  ...  \\\n",
       "Name                                                                    ...   \n",
       "Mike Trout            Angels  137  600  472  139  26   3  40  107  102  ...   \n",
       "Alex Bregman          Astros  154  672  560  161  39   3  34  110  110  ...   \n",
       "Mookie Betts         Dodgers  151  698  608  179  39   5  34  126   97  ...   \n",
       "Francisco Lindor     Indians  156  709  637  184  41   3  34  113   93  ...   \n",
       "Juan Soto          Nationals  155  678  559  165  33   5  36  115  126  ...   \n",
       "...                      ...  ...  ...  ...  ...  ..  ..  ..  ...  ...  ...   \n",
       "Gio Brusa                NaN  110  428  391   66  16   2  13   40   40  ...   \n",
       "Lazaro Armenteros  Athletics  119  506  455   78  14   2  14   48   44  ...   \n",
       "Elier Hernandez          NaN  115  458  429   88  18   2   5   38   31  ...   \n",
       "Courtney Hawkins         NaN  100  417  390   70  17   0  13   37   41  ...   \n",
       "Tim Tebow               Mets   91  328  303   49  10   1   4   25   20  ...   \n",
       "\n",
       "                   WAR    ADP  playerid  HR_ZScore  HR_perAB  HR_100G  \\\n",
       "Name                                                                    \n",
       "Mike Trout         7.9    2.3     10155   3.900088  0.084746     31.0   \n",
       "Alex Bregman       7.1   15.8     17678   3.078995  0.060714     22.0   \n",
       "Mookie Betts       6.1    6.0     13611   3.078995  0.055921     21.0   \n",
       "Francisco Lindor   6.0    8.2     12916   3.078995  0.053375     20.0   \n",
       "Juan Soto          5.7   11.0     20123   3.352693  0.064401     24.0   \n",
       "...                ...    ...       ...        ...       ...      ...   \n",
       "Gio Brusa         -2.8  999.0  sa659068   0.205170  0.033248     12.0   \n",
       "Lazaro Armenteros -2.9  999.0  sa969091   0.342019  0.030769     11.0   \n",
       "Elier Hernandez   -3.0  999.0  sa659238  -0.889620  0.011655      4.0   \n",
       "Courtney Hawkins  -3.0  999.0  sa657904   0.205170  0.033333     12.0   \n",
       "Tim Tebow         -3.4  999.0  sa323152  -1.026469  0.013201      5.0   \n",
       "\n",
       "                   War_perGame  WAR_100G  SO_perAB     SO_100G  \n",
       "Name                                                            \n",
       "Mike Trout            0.057664  5.766423  0.264831   98.085374  \n",
       "Alex Bregman          0.046104  4.610390  0.158929   58.862434  \n",
       "Mookie Betts          0.040397  4.039735  0.157895   58.479532  \n",
       "Francisco Lindor      0.038462  3.846154  0.158556   58.724344  \n",
       "Juan Soto             0.036774  3.677419  0.227191   84.144968  \n",
       "...                        ...       ...       ...         ...  \n",
       "Gio Brusa            -0.025455 -2.545455  0.462916  171.450223  \n",
       "Lazaro Armenteros    -0.024370 -2.436975  0.492308  182.336182  \n",
       "Elier Hernandez      -0.026087 -2.608696  0.298368  110.506777  \n",
       "Courtney Hawkins     -0.030000 -3.000000  0.392308  145.299145  \n",
       "Tim Tebow            -0.037363 -3.736264  0.455446  168.683535  \n",
       "\n",
       "[1328 rows x 32 columns]"
      ]
     },
     "execution_count": 47,
     "metadata": {},
     "output_type": "execute_result"
    }
   ],
   "source": [
    "def SO_perAB(x):\n",
    "    df[\"SO_perAB\"] = df[\"SO\"]/df[\"AB\"]\n",
    "df.apply(SO_perAB)\n",
    "def SO_100G(x):\n",
    "    df[\"SO_100G\"] = df[\"SO_perAB\"]*(600*(100/162))\n",
    "df.apply(SO_100G)\n",
    "df\n"
   ]
  },
  {
   "cell_type": "markdown",
   "metadata": {},
   "source": [
    "Just curious, what will the total strikeouts be in 2020 assuming a 100 game season?"
   ]
  },
  {
   "cell_type": "code",
   "execution_count": 48,
   "metadata": {
    "pycharm": {
     "name": "#%%\n"
    }
   },
   "outputs": [
    {
     "data": {
      "text/plain": [
       "135655.81007631036"
      ]
     },
     "execution_count": 48,
     "metadata": {},
     "output_type": "execute_result"
    }
   ],
   "source": [
    "df[\"SO_100G\"].sum()\n",
    "#135655.8, thats a lot of strikeouts"
   ]
  },
  {
   "cell_type": "markdown",
   "metadata": {},
   "source": [
    "Lets see if un-adjusted strikeouts are correlated to HRs"
   ]
  },
  {
   "cell_type": "code",
   "execution_count": 49,
   "metadata": {
    "pycharm": {
     "name": "#%%\n"
    }
   },
   "outputs": [
    {
     "name": "stdout",
     "output_type": "stream",
     "text": [
      "0.4913211886215496\n"
     ]
    }
   ],
   "source": [
    "#I looked this method up online since I will likely need to use it at work and could use the practice\n",
    "column_1 = df[\"SO\"]\n",
    "column_2 = df[\"HR\"]\n",
    "correlation = column_1.corr(column_2)\n",
    "print(correlation)\n",
    "#.49 correlated, moderate correlation"
   ]
  },
  {
   "cell_type": "markdown",
   "metadata": {},
   "source": [
    "Now, lets analyze on a per_AB basis"
   ]
  },
  {
   "cell_type": "code",
   "execution_count": 50,
   "metadata": {
    "pycharm": {
     "name": "#%%\n"
    }
   },
   "outputs": [
    {
     "name": "stdout",
     "output_type": "stream",
     "text": [
      "0.2559325480984806\n"
     ]
    }
   ],
   "source": [
    "column_1 = df[\"SO_perAB\"]\n",
    "column_2 = df[\"HR_perAB\"]\n",
    "correlation = column_1.corr(column_2)\n",
    "print(correlation)\n",
    "#hmm, its quite lower"
   ]
  },
  {
   "cell_type": "markdown",
   "metadata": {},
   "source": [
    "And lastly, let's see the correlation on the 100G stats"
   ]
  },
  {
   "cell_type": "code",
   "execution_count": 51,
   "metadata": {
    "pycharm": {
     "name": "#%%\n"
    }
   },
   "outputs": [
    {
     "name": "stdout",
     "output_type": "stream",
     "text": [
      "0.2523178523386346\n"
     ]
    }
   ],
   "source": [
    "column_1 = df[\"SO_100G\"]\n",
    "column_2 = df[\"HR_100G\"]\n",
    "correlation = column_1.corr(column_2)\n",
    "print(correlation)\n",
    "#still much lower"
   ]
  },
  {
   "cell_type": "markdown",
   "metadata": {},
   "source": [
    "### Team Aggregates: Which Teams Have the Best Offense?"
   ]
  },
  {
   "cell_type": "markdown",
   "metadata": {
    "pycharm": {
     "name": "#%% md\n"
    }
   },
   "source": [
    "### CONCLUSIONS: Yankees are the most powerful (hitting 216 HRs by top 9 players in a 100 game season), the Braves have the best top 9 slugging percentage, Dodgers have a slight lead in top 9 wOBA but the Astros have a lead in top 9 WAR.\n",
    "\n",
    "### EDGE: Astros, WAR is the most complete metric of player value and they lead on un-adjusted WAR and WAR/100Games."
   ]
  },
  {
   "cell_type": "markdown",
   "metadata": {},
   "source": [
    "Lets start by analyzing the un-adjusted home runs"
   ]
  },
  {
   "cell_type": "code",
   "execution_count": 52,
   "metadata": {
    "pycharm": {
     "name": "#%%\n"
    }
   },
   "outputs": [
    {
     "data": {
      "text/plain": [
       "Team\n",
       "Dodgers         500\n",
       "Yankees         453\n",
       "Red Sox         443\n",
       "Astros          443\n",
       "Blue Jays       443\n",
       "Twins           426\n",
       "Angels          425\n",
       "Athletics       414\n",
       "Reds            412\n",
       "Rangers         407\n",
       "Braves          405\n",
       "Brewers         404\n",
       "Padres          401\n",
       "Phillies        394\n",
       "Indians         389\n",
       "Orioles         381\n",
       "Diamondbacks    376\n",
       "Rockies         367\n",
       "Mariners        363\n",
       "Nationals       352\n",
       "White Sox       348\n",
       "Tigers          342\n",
       "Mets            337\n",
       "Rays            331\n",
       "Cardinals       331\n",
       "Marlins         330\n",
       "Cubs            328\n",
       "Royals          317\n",
       "Pirates         268\n",
       "Giants          254\n",
       "Name: HR, dtype: int64"
      ]
     },
     "execution_count": 52,
     "metadata": {},
     "output_type": "execute_result"
    }
   ],
   "source": [
    "team = df.groupby(\"Team\")\n",
    "team[\"HR\"].sum().sort_values(ascending = False)\n",
    "#those numbers are awfully high, probably because they include minor leaguers"
   ]
  },
  {
   "cell_type": "markdown",
   "metadata": {},
   "source": [
    "Lets re-do the above only counting the top 9 (the number of position players per game) entries for each team"
   ]
  },
  {
   "cell_type": "code",
   "execution_count": 53,
   "metadata": {
    "pycharm": {
     "name": "#%%\n"
    }
   },
   "outputs": [
    {
     "data": {
      "text/plain": [
       "Team\n",
       "Yankees         257\n",
       "Dodgers         235\n",
       "Braves          230\n",
       "Phillies        227\n",
       "White Sox       227\n",
       "Athletics       226\n",
       "Astros          225\n",
       "Reds            223\n",
       "Twins           219\n",
       "Indians         215\n",
       "Rangers         214\n",
       "Angels          210\n",
       "Blue Jays       209\n",
       "Rockies         208\n",
       "Cubs            208\n",
       "Red Sox         205\n",
       "Padres          194\n",
       "Diamondbacks    189\n",
       "Brewers         187\n",
       "Nationals       187\n",
       "Mets            186\n",
       "Orioles         184\n",
       "Rays            183\n",
       "Cardinals       181\n",
       "Royals          175\n",
       "Tigers          175\n",
       "Mariners        170\n",
       "Marlins         146\n",
       "Pirates         136\n",
       "Giants          134\n",
       "Name: HR, dtype: int64"
      ]
     },
     "execution_count": 53,
     "metadata": {},
     "output_type": "execute_result"
    }
   ],
   "source": [
    "team[\"HR\"].nlargest(9).sum(level=0).sort_values(ascending=False)\n",
    "#this takes the 25 largest HR hitters by team, sums it and sorts by values\n",
    "#I had to look the nlargest up online\n",
    "#The Yankees take the lead with 257 home runs!"
   ]
  },
  {
   "cell_type": "markdown",
   "metadata": {},
   "source": [
    "Now lets plot the data!"
   ]
  },
  {
   "cell_type": "code",
   "execution_count": 54,
   "metadata": {},
   "outputs": [
    {
     "data": {
      "text/plain": [
       "Text(0, 0.5, 'Home Runs')"
      ]
     },
     "execution_count": 54,
     "metadata": {},
     "output_type": "execute_result"
    }
   ],
   "source": [
    "ax = team[\"HR\"].nlargest(9).sum(level=0).sort_values(ascending=False).plot(kind = \"bar\", x = \"Team\", y = \"HR\", title = \"Top 9 Player Home Runs by Team\")\n",
    "ax.set_ylabel(\"Home Runs\")"
   ]
  },
  {
   "cell_type": "markdown",
   "metadata": {},
   "source": [
    "Now lets do the same for the 100 game season"
   ]
  },
  {
   "cell_type": "code",
   "execution_count": 55,
   "metadata": {},
   "outputs": [
    {
     "data": {
      "text/plain": [
       "Team\n",
       "Yankees         216.0\n",
       "Twins           186.0\n",
       "Dodgers         186.0\n",
       "Phillies        180.0\n",
       "Reds            176.0\n",
       "Rangers         175.0\n",
       "Athletics       172.0\n",
       "Braves          172.0\n",
       "White Sox       172.0\n",
       "Astros          171.0\n",
       "Blue Jays       170.0\n",
       "Angels          167.0\n",
       "Cubs            164.0\n",
       "Indians         164.0\n",
       "Mets            162.0\n",
       "Red Sox         158.0\n",
       "Rockies         157.0\n",
       "Brewers         157.0\n",
       "Nationals       156.0\n",
       "Rays            156.0\n",
       "Mariners        151.0\n",
       "Cardinals       149.0\n",
       "Padres          147.0\n",
       "Orioles         147.0\n",
       "Diamondbacks    147.0\n",
       "Royals          140.0\n",
       "Tigers          140.0\n",
       "Marlins         127.0\n",
       "Giants          120.0\n",
       "Pirates         118.0\n",
       "Name: HR_100G, dtype: float64"
      ]
     },
     "execution_count": 55,
     "metadata": {},
     "output_type": "execute_result"
    }
   ],
   "source": [
    "team[\"HR_100G\"].nlargest(9).sum(level=0).sort_values(ascending=False)\n",
    "#Yankees still have the lead, \n",
    "#but due to my assumption of a pro-rated 600AB season likely overweights the number of ABs a power hitter would get"
   ]
  },
  {
   "cell_type": "markdown",
   "metadata": {},
   "source": [
    "And lets plot it"
   ]
  },
  {
   "cell_type": "code",
   "execution_count": 56,
   "metadata": {},
   "outputs": [
    {
     "data": {
      "text/plain": [
       "Text(0, 0.5, 'Home Runs')"
      ]
     },
     "execution_count": 56,
     "metadata": {},
     "output_type": "execute_result"
    },
    {
     "data": {
      "image/png": "[encoded data removed]",
      "text/plain": [
       "<Figure size 432x288 with 1 Axes>"
      ]
     },
     "metadata": {
      "needs_background": "light"
     },
     "output_type": "display_data"
    }
   ],
   "source": [
    "ax = team[\"HR_100G\"].nlargest(9).sum(level=0).sort_values(ascending=False).plot(kind = \"bar\", x = \"Team\", y = \"HR_100G\", title = \"Top 9 Player Home Runs Per 100 Games by Team\")\n",
    "ax.set_ylabel(\"Home Runs\")\n",
    "#the gap between the Yankees and the other teams has widened"
   ]
  },
  {
   "cell_type": "markdown",
   "metadata": {},
   "source": [
    "Now lets look at slugging percentage (SLG)\n",
    "\n",
    "Since this is a percentage, we can't simply sum, so we will use medians"
   ]
  },
  {
   "cell_type": "code",
   "execution_count": 57,
   "metadata": {},
   "outputs": [
    {
     "data": {
      "text/plain": [
       "Team\n",
       "Yankees         0.4245\n",
       "Rockies         0.4110\n",
       "Diamondbacks    0.4030\n",
       "Dodgers         0.3940\n",
       "Cubs            0.3910\n",
       "Braves          0.3870\n",
       "Reds            0.3860\n",
       "White Sox       0.3840\n",
       "Phillies        0.3835\n",
       "Nationals       0.3835\n",
       "Cardinals       0.3820\n",
       "Twins           0.3815\n",
       "Brewers         0.3810\n",
       "Red Sox         0.3760\n",
       "Giants          0.3760\n",
       "Tigers          0.3730\n",
       "Rangers         0.3700\n",
       "Blue Jays       0.3690\n",
       "Rays            0.3680\n",
       "Orioles         0.3680\n",
       "Angels          0.3670\n",
       "Padres          0.3660\n",
       "Indians         0.3645\n",
       "Astros          0.3580\n",
       "Marlins         0.3530\n",
       "Mariners        0.3510\n",
       "Royals          0.3500\n",
       "Pirates         0.3485\n",
       "Athletics       0.3450\n",
       "Mets            0.3440\n",
       "Name: SLG, dtype: float64"
      ]
     },
     "execution_count": 57,
     "metadata": {},
     "output_type": "execute_result"
    }
   ],
   "source": [
    "team[\"SLG\"].median().sort_values(ascending=False)\n",
    "#Yankees lead on this metric as well\n"
   ]
  },
  {
   "cell_type": "markdown",
   "metadata": {},
   "source": [
    "And for the top 9"
   ]
  },
  {
   "cell_type": "code",
   "execution_count": 58,
   "metadata": {},
   "outputs": [
    {
     "data": {
      "text/plain": [
       "Team\n",
       "Braves          0.499\n",
       "Phillies        0.493\n",
       "Astros          0.493\n",
       "Yankees         0.481\n",
       "Twins           0.481\n",
       "Dodgers         0.481\n",
       "Rockies         0.480\n",
       "Athletics       0.469\n",
       "Nationals       0.465\n",
       "Mets            0.462\n",
       "Diamondbacks    0.460\n",
       "Cubs            0.458\n",
       "Indians         0.455\n",
       "White Sox       0.455\n",
       "Angels          0.451\n",
       "Blue Jays       0.451\n",
       "Reds            0.449\n",
       "Cardinals       0.444\n",
       "Red Sox         0.444\n",
       "Rangers         0.443\n",
       "Brewers         0.441\n",
       "Rays            0.432\n",
       "Padres          0.430\n",
       "Royals          0.423\n",
       "Pirates         0.420\n",
       "Mariners        0.418\n",
       "Giants          0.417\n",
       "Orioles         0.414\n",
       "Marlins         0.412\n",
       "Tigers          0.412\n",
       "Name: SLG, dtype: float64"
      ]
     },
     "execution_count": 58,
     "metadata": {},
     "output_type": "execute_result"
    }
   ],
   "source": [
    "team[\"SLG\"].nlargest(9).median(level=0).sort_values(ascending=False)\n",
    "#but based on top 9, the Braves take the lead"
   ]
  },
  {
   "cell_type": "markdown",
   "metadata": {},
   "source": [
    "Slugging chart"
   ]
  },
  {
   "cell_type": "code",
   "execution_count": 59,
   "metadata": {},
   "outputs": [
    {
     "data": {
      "text/plain": [
       "Text(0, 0.5, 'SLG %')"
      ]
     },
     "execution_count": 59,
     "metadata": {},
     "output_type": "execute_result"
    },
    {
     "data": {
      "image/png": "[encoded data removed]",
      "text/plain": [
       "<Figure size 432x288 with 1 Axes>"
      ]
     },
     "metadata": {
      "needs_background": "light"
     },
     "output_type": "display_data"
    }
   ],
   "source": [
    "ax = team[\"SLG\"].nlargest(9).median(level=0).sort_values(ascending=False).plot(kind = \"bar\", x = \"Team\", y = \"SLG\", title = \"Median Top 9 Slugging Percentage by Team\")\n",
    "ax.set_ylabel(\"SLG %\")"
   ]
  },
  {
   "cell_type": "markdown",
   "metadata": {},
   "source": [
    "Lets do the same for wOBA"
   ]
  },
  {
   "cell_type": "code",
   "execution_count": 60,
   "metadata": {},
   "outputs": [
    {
     "data": {
      "text/plain": [
       "Team\n",
       "Dodgers         0.354\n",
       "Astros          0.353\n",
       "Yankees         0.349\n",
       "Reds            0.348\n",
       "Rockies         0.344\n",
       "Twins           0.338\n",
       "Cubs            0.338\n",
       "Nationals       0.338\n",
       "Indians         0.337\n",
       "Phillies        0.337\n",
       "Brewers         0.335\n",
       "Athletics       0.333\n",
       "Braves          0.332\n",
       "Red Sox         0.331\n",
       "Diamondbacks    0.331\n",
       "White Sox       0.331\n",
       "Mets            0.330\n",
       "Rangers         0.327\n",
       "Angels          0.327\n",
       "Padres          0.323\n",
       "Cardinals       0.323\n",
       "Blue Jays       0.321\n",
       "Rays            0.318\n",
       "Marlins         0.314\n",
       "Pirates         0.314\n",
       "Tigers          0.313\n",
       "Giants          0.311\n",
       "Royals          0.307\n",
       "Orioles         0.306\n",
       "Mariners        0.297\n",
       "Name: wOBA, dtype: float64"
      ]
     },
     "execution_count": 60,
     "metadata": {},
     "output_type": "execute_result"
    }
   ],
   "source": [
    "team[\"wOBA\"].nlargest(9).median(level=0).sort_values(ascending=False)\n",
    "#Dodgers lead on wOBA"
   ]
  },
  {
   "cell_type": "markdown",
   "metadata": {},
   "source": [
    "wOBA chart"
   ]
  },
  {
   "cell_type": "code",
   "execution_count": 61,
   "metadata": {},
   "outputs": [
    {
     "data": {
      "text/plain": [
       "Text(0, 0.5, 'Median Top 9 wOBA')"
      ]
     },
     "execution_count": 61,
     "metadata": {},
     "output_type": "execute_result"
    },
    {
     "data": {
      "image/png": "[encoded data removed]",
      "text/plain": [
       "<Figure size 432x288 with 1 Axes>"
      ]
     },
     "metadata": {
      "needs_background": "light"
     },
     "output_type": "display_data"
    }
   ],
   "source": [
    "ax = team[\"wOBA\"].nlargest(9).median(level=0).sort_values(ascending=False).plot(kind = \"bar\", x = \"Team\", y = \"wOBA\", title = \"Median Top 9 Player wOBA by Team\")\n",
    "ax.set_ylabel(\"Median Top 9 wOBA\")"
   ]
  },
  {
   "cell_type": "markdown",
   "metadata": {},
   "source": [
    "And what is the best team by WAR (un-adjusted)\n",
    "\n",
    "Note that WAR can be summed"
   ]
  },
  {
   "cell_type": "code",
   "execution_count": 62,
   "metadata": {},
   "outputs": [
    {
     "data": {
      "text/plain": [
       "Team\n",
       "Astros          32.4\n",
       "Dodgers         32.1\n",
       "Yankees         27.6\n",
       "Angels          25.6\n",
       "Athletics       24.6\n",
       "Braves          24.5\n",
       "Twins           23.9\n",
       "Indians         21.7\n",
       "Nationals       21.7\n",
       "White Sox       21.7\n",
       "Phillies        21.6\n",
       "Cubs            21.4\n",
       "Red Sox         21.1\n",
       "Diamondbacks    19.6\n",
       "Cardinals       19.4\n",
       "Mets            18.7\n",
       "Brewers         18.6\n",
       "Padres          18.5\n",
       "Rays            18.0\n",
       "Blue Jays       17.5\n",
       "Reds            16.7\n",
       "Rockies         15.0\n",
       "Royals          14.1\n",
       "Mariners        13.5\n",
       "Rangers         12.6\n",
       "Giants          11.6\n",
       "Marlins         11.6\n",
       "Pirates         10.9\n",
       "Orioles         10.8\n",
       "Tigers           9.5\n",
       "Name: WAR, dtype: float64"
      ]
     },
     "execution_count": 62,
     "metadata": {},
     "output_type": "execute_result"
    }
   ],
   "source": [
    "team[\"WAR\"].nlargest(9).sum(level=0).sort_values(ascending=False)\n",
    "#Astros have the most cumulative WAR"
   ]
  },
  {
   "cell_type": "markdown",
   "metadata": {},
   "source": [
    "Lets plot WAR"
   ]
  },
  {
   "cell_type": "code",
   "execution_count": 63,
   "metadata": {},
   "outputs": [
    {
     "data": {
      "text/plain": [
       "Text(0, 0.5, 'WAR')"
      ]
     },
     "execution_count": 63,
     "metadata": {},
     "output_type": "execute_result"
    },
    {
     "data": {
      "image/png": "[encoded data removed]",
      "text/plain": [
       "<Figure size 432x288 with 1 Axes>"
      ]
     },
     "metadata": {
      "needs_background": "light"
     },
     "output_type": "display_data"
    }
   ],
   "source": [
    "ax = team[\"WAR\"].nlargest(9).sum(level=0).sort_values(ascending=False).plot(kind = \"bar\", x = \"Team\", y = \"WAR\",title=\"Cumulative Top 9 Player WAR by Team\")\n",
    "ax.set_ylabel(\"WAR\")"
   ]
  },
  {
   "cell_type": "markdown",
   "metadata": {},
   "source": [
    "And on the 100 game schedule?"
   ]
  },
  {
   "cell_type": "code",
   "execution_count": 64,
   "metadata": {
    "pycharm": {
     "name": "#%%\n"
    }
   },
   "outputs": [
    {
     "data": {
      "text/plain": [
       "Team\n",
       "Astros          23.968221\n",
       "Dodgers         23.332296\n",
       "Yankees         21.569768\n",
       "Angels          19.519544\n",
       "Twins           19.399368\n",
       "Athletics       18.836958\n",
       "Braves          17.661438\n",
       "White Sox       16.500686\n",
       "Phillies        16.063622\n",
       "Nationals       15.841748\n",
       "Indians         15.657757\n",
       "Cubs            15.630535\n",
       "Red Sox         15.136422\n",
       "Mets            14.643960\n",
       "Diamondbacks    14.508663\n",
       "Padres          14.486112\n",
       "Cardinals       14.408983\n",
       "Rays            14.215457\n",
       "Brewers         14.210751\n",
       "Blue Jays       14.172603\n",
       "Reds            12.347622\n",
       "Royals          11.466392\n",
       "Mariners        11.342420\n",
       "Rockies         11.189612\n",
       "Rangers          9.948074\n",
       "Giants           9.705949\n",
       "Marlins          9.343831\n",
       "Pirates          8.787765\n",
       "Orioles          8.300256\n",
       "Tigers           8.068796\n",
       "Name: WAR_100G, dtype: float64"
      ]
     },
     "execution_count": 64,
     "metadata": {},
     "output_type": "execute_result"
    }
   ],
   "source": [
    "team[\"WAR_100G\"].nlargest(9).sum(level=0).sort_values(ascending=False)\n",
    "#Astros keep their lead"
   ]
  },
  {
   "cell_type": "markdown",
   "metadata": {},
   "source": [
    "Finally lets plot the WAR_100G"
   ]
  },
  {
   "cell_type": "code",
   "execution_count": 65,
   "metadata": {
    "pycharm": {
     "name": "#%%\n"
    }
   },
   "outputs": [
    {
     "data": {
      "text/plain": [
       "Text(0, 0.5, 'WAR/100Games')"
      ]
     },
     "execution_count": 65,
     "metadata": {},
     "output_type": "execute_result"
    },
    {
     "data": {
      "image/png": "[encoded data removed]",
      "text/plain": [
       "<Figure size 432x288 with 1 Axes>"
      ]
     },
     "metadata": {
      "needs_background": "light"
     },
     "output_type": "display_data"
    }
   ],
   "source": [
    "ax = team[\"WAR_100G\"].nlargest(9).sum(level=0).sort_values(ascending=False).plot(kind = \"bar\", x = \"Team\", y = \"WAR_100G\",title = \"Cumulative Top 9 Player WAR per 100 Games by Team\")\n",
    "ax.set_ylabel(\"WAR/100Games\")"
   ]
  },
  {
   "cell_type": "code",
   "execution_count": null,
   "metadata": {
    "pycharm": {
     "name": "#%%\n"
    }
   },
   "outputs": [],
   "source": []
  },
  {
   "cell_type": "code",
   "execution_count": null,
   "metadata": {},
   "outputs": [],
   "source": []
  },
  {
   "cell_type": "code",
   "execution_count": null,
   "metadata": {},
   "outputs": [],
   "source": [
    "\n"
   ]
  },
  {
   "cell_type": "code",
   "execution_count": null,
   "metadata": {},
   "outputs": [],
   "source": []
  },
  {
   "cell_type": "code",
   "execution_count": null,
   "metadata": {},
   "outputs": [],
   "source": []
  }
 ],
 "metadata": {
  "kernelspec": {
   "display_name": "Python 3",
   "language": "python",
   "name": "python3"
  },
  "language_info": {
   "codemirror_mode": {
    "name": "ipython",
    "version": 3
   },
   "file_extension": ".py",
   "mimetype": "text/x-python",
   "name": "python",
   "nbconvert_exporter": "python",
   "pygments_lexer": "ipython3",
   "version": "3.7.4"
  },
  "pycharm": {
   "stem_cell": {
    "cell_type": "raw",
    "metadata": {
     "collapsed": false
    },
    "source": []
   }
  }
 },
 "nbformat": 4,
 "nbformat_minor": 1
}
